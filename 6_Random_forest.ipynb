{
  "nbformat": 4,
  "nbformat_minor": 0,
  "metadata": {
    "colab": {
      "name": "Random_Forest_2_postDFS_fixed (1).ipynb",
      "provenance": [],
      "collapsed_sections": []
    },
    "kernelspec": {
      "name": "python3",
      "display_name": "Python 3"
    },
    "language_info": {
      "name": "python"
    }
  },
  "cells": [
    {
      "cell_type": "code",
      "source": [
        "!pip install scikit-plot"
      ],
      "metadata": {
        "colab": {
          "base_uri": "https://localhost:8080/"
        },
        "id": "NoJagfoG94GD",
        "outputId": "0e2e0e5b-88e8-4b7b-aa52-1b425f451cda"
      },
      "execution_count": null,
      "outputs": [
        {
          "output_type": "stream",
          "name": "stdout",
          "text": [
            "Collecting scikit-plot\n",
            "  Downloading scikit_plot-0.3.7-py3-none-any.whl (33 kB)\n",
            "Requirement already satisfied: scipy>=0.9 in /usr/local/lib/python3.7/dist-packages (from scikit-plot) (1.4.1)\n",
            "Requirement already satisfied: matplotlib>=1.4.0 in /usr/local/lib/python3.7/dist-packages (from scikit-plot) (3.2.2)\n",
            "Requirement already satisfied: scikit-learn>=0.18 in /usr/local/lib/python3.7/dist-packages (from scikit-plot) (1.0.2)\n",
            "Requirement already satisfied: joblib>=0.10 in /usr/local/lib/python3.7/dist-packages (from scikit-plot) (1.1.0)\n",
            "Requirement already satisfied: cycler>=0.10 in /usr/local/lib/python3.7/dist-packages (from matplotlib>=1.4.0->scikit-plot) (0.11.0)\n",
            "Requirement already satisfied: python-dateutil>=2.1 in /usr/local/lib/python3.7/dist-packages (from matplotlib>=1.4.0->scikit-plot) (2.8.2)\n",
            "Requirement already satisfied: kiwisolver>=1.0.1 in /usr/local/lib/python3.7/dist-packages (from matplotlib>=1.4.0->scikit-plot) (1.4.2)\n",
            "Requirement already satisfied: pyparsing!=2.0.4,!=2.1.2,!=2.1.6,>=2.0.1 in /usr/local/lib/python3.7/dist-packages (from matplotlib>=1.4.0->scikit-plot) (3.0.8)\n",
            "Requirement already satisfied: numpy>=1.11 in /usr/local/lib/python3.7/dist-packages (from matplotlib>=1.4.0->scikit-plot) (1.21.6)\n",
            "Requirement already satisfied: typing-extensions in /usr/local/lib/python3.7/dist-packages (from kiwisolver>=1.0.1->matplotlib>=1.4.0->scikit-plot) (4.2.0)\n",
            "Requirement already satisfied: six>=1.5 in /usr/local/lib/python3.7/dist-packages (from python-dateutil>=2.1->matplotlib>=1.4.0->scikit-plot) (1.15.0)\n",
            "Requirement already satisfied: threadpoolctl>=2.0.0 in /usr/local/lib/python3.7/dist-packages (from scikit-learn>=0.18->scikit-plot) (3.1.0)\n",
            "Installing collected packages: scikit-plot\n",
            "Successfully installed scikit-plot-0.3.7\n"
          ]
        }
      ]
    },
    {
      "cell_type": "code",
      "execution_count": null,
      "metadata": {
        "id": "-aD8wPCRQlSa",
        "colab": {
          "base_uri": "https://localhost:8080/"
        },
        "outputId": "ab0b8ebc-c576-46ea-f2ef-de1404fa8e33"
      },
      "outputs": [
        {
          "output_type": "stream",
          "name": "stdout",
          "text": [
            "Drive already mounted at /content/drive; to attempt to forcibly remount, call drive.mount(\"/content/drive\", force_remount=True).\n"
          ]
        }
      ],
      "source": [
        "import pandas as pd\n",
        "import numpy as np\n",
        "from google.colab import drive\n",
        "drive.mount('/content/drive')\n",
        "\n",
        "import seaborn as sns\n",
        "import matplotlib.pyplot as plt\n",
        "from matplotlib.pyplot import rcParams\n",
        "import os\n",
        "from sklearn.model_selection import train_test_split\n",
        "from sklearn.model_selection import GridSearchCV, cross_val_score\n",
        "from sklearn.ensemble import RandomForestClassifier\n",
        "from sklearn.metrics import accuracy_score, f1_score, precision_score, recall_score, confusion_matrix, classification_report, roc_auc_score, plot_roc_curve\n",
        "\n",
        "%matplotlib inline\n",
        "rcParams['figure.figsize'] = 10,8\n",
        "sns.set(style='whitegrid', palette='muted',\n",
        "        rc={'figure.figsize': (15,10)})"
      ]
    },
    {
      "cell_type": "code",
      "source": [
        "# main data\n",
        "df = pd.read_csv('/content/drive/My Drive/thesis data/churn-data_11_DFS_trans_only_pearsons-selected.csv')\n",
        "data = df.drop(df.columns[0:2,], axis=1)\n",
        "print(data.shape)"
      ],
      "metadata": {
        "colab": {
          "base_uri": "https://localhost:8080/"
        },
        "id": "0DmMXf_gyeei",
        "outputId": "6042a61e-a88b-4a3e-f5c1-334ff4a49856"
      },
      "execution_count": null,
      "outputs": [
        {
          "output_type": "stream",
          "name": "stdout",
          "text": [
            "(90692, 380)\n"
          ]
        }
      ]
    },
    {
      "cell_type": "code",
      "source": [
        "df.head(3)"
      ],
      "metadata": {
        "colab": {
          "base_uri": "https://localhost:8080/",
          "height": 272
        },
        "id": "FLmJZWKa71Jd",
        "outputId": "471e1ad4-b52a-4dbe-c523-0d0e3e71be5e"
      },
      "execution_count": null,
      "outputs": [
        {
          "output_type": "execute_result",
          "data": {
            "text/plain": [
              "   Unnamed: 0  Customer_ID  user_months  phones_used  handset_price  \\\n",
              "0           0      1096894     0.114754     0.071429           0.24   \n",
              "1           1      1082855     0.147541     0.178571           0.16   \n",
              "2           2      1026564     0.426230     0.107143           0.16   \n",
              "\n",
              "   handset_age  cred_score  cred_score + phones_used  COSINE(handset_age)  \\\n",
              "0     0.002194         0.0                  0.071429            -0.653644   \n",
              "1     0.000000         0.0                  0.178571             1.000000   \n",
              "2     0.000000         0.0                  0.107143             1.000000   \n",
              "\n",
              "   COSINE(handset_price)  ...  dualband != None_True  \\\n",
              "0               0.834519  ...                    1.0   \n",
              "1              -0.113145  ...                    1.0   \n",
              "2              -0.113145  ...                    1.0   \n",
              "\n",
              "   handset_age != None_True  handset_price != None_True  \\\n",
              "0                       1.0                         1.0   \n",
              "1                       1.0                         1.0   \n",
              "2                       1.0                         1.0   \n",
              "\n",
              "   manual_limit != None_True  new_user != None_True  phones_used != None_True  \\\n",
              "0                        1.0                    1.0                       1.0   \n",
              "1                        1.0                    1.0                       1.0   \n",
              "2                        1.0                    1.0                       1.0   \n",
              "\n",
              "   refurb_or_new != None_True  user_months != None_True  \\\n",
              "0                         1.0                       1.0   \n",
              "1                         1.0                       1.0   \n",
              "2                         1.0                       1.0   \n",
              "\n",
              "   web_capable != None_True  churn  \n",
              "0                       1.0      0  \n",
              "1                       1.0      0  \n",
              "2                       1.0      1  \n",
              "\n",
              "[3 rows x 382 columns]"
            ],
            "text/html": [
              "\n",
              "  <div id=\"df-dd335b68-a733-4872-b66d-7519d7b0ab73\">\n",
              "    <div class=\"colab-df-container\">\n",
              "      <div>\n",
              "<style scoped>\n",
              "    .dataframe tbody tr th:only-of-type {\n",
              "        vertical-align: middle;\n",
              "    }\n",
              "\n",
              "    .dataframe tbody tr th {\n",
              "        vertical-align: top;\n",
              "    }\n",
              "\n",
              "    .dataframe thead th {\n",
              "        text-align: right;\n",
              "    }\n",
              "</style>\n",
              "<table border=\"1\" class=\"dataframe\">\n",
              "  <thead>\n",
              "    <tr style=\"text-align: right;\">\n",
              "      <th></th>\n",
              "      <th>Unnamed: 0</th>\n",
              "      <th>Customer_ID</th>\n",
              "      <th>user_months</th>\n",
              "      <th>phones_used</th>\n",
              "      <th>handset_price</th>\n",
              "      <th>handset_age</th>\n",
              "      <th>cred_score</th>\n",
              "      <th>cred_score + phones_used</th>\n",
              "      <th>COSINE(handset_age)</th>\n",
              "      <th>COSINE(handset_price)</th>\n",
              "      <th>...</th>\n",
              "      <th>dualband != None_True</th>\n",
              "      <th>handset_age != None_True</th>\n",
              "      <th>handset_price != None_True</th>\n",
              "      <th>manual_limit != None_True</th>\n",
              "      <th>new_user != None_True</th>\n",
              "      <th>phones_used != None_True</th>\n",
              "      <th>refurb_or_new != None_True</th>\n",
              "      <th>user_months != None_True</th>\n",
              "      <th>web_capable != None_True</th>\n",
              "      <th>churn</th>\n",
              "    </tr>\n",
              "  </thead>\n",
              "  <tbody>\n",
              "    <tr>\n",
              "      <th>0</th>\n",
              "      <td>0</td>\n",
              "      <td>1096894</td>\n",
              "      <td>0.114754</td>\n",
              "      <td>0.071429</td>\n",
              "      <td>0.24</td>\n",
              "      <td>0.002194</td>\n",
              "      <td>0.0</td>\n",
              "      <td>0.071429</td>\n",
              "      <td>-0.653644</td>\n",
              "      <td>0.834519</td>\n",
              "      <td>...</td>\n",
              "      <td>1.0</td>\n",
              "      <td>1.0</td>\n",
              "      <td>1.0</td>\n",
              "      <td>1.0</td>\n",
              "      <td>1.0</td>\n",
              "      <td>1.0</td>\n",
              "      <td>1.0</td>\n",
              "      <td>1.0</td>\n",
              "      <td>1.0</td>\n",
              "      <td>0</td>\n",
              "    </tr>\n",
              "    <tr>\n",
              "      <th>1</th>\n",
              "      <td>1</td>\n",
              "      <td>1082855</td>\n",
              "      <td>0.147541</td>\n",
              "      <td>0.178571</td>\n",
              "      <td>0.16</td>\n",
              "      <td>0.000000</td>\n",
              "      <td>0.0</td>\n",
              "      <td>0.178571</td>\n",
              "      <td>1.000000</td>\n",
              "      <td>-0.113145</td>\n",
              "      <td>...</td>\n",
              "      <td>1.0</td>\n",
              "      <td>1.0</td>\n",
              "      <td>1.0</td>\n",
              "      <td>1.0</td>\n",
              "      <td>1.0</td>\n",
              "      <td>1.0</td>\n",
              "      <td>1.0</td>\n",
              "      <td>1.0</td>\n",
              "      <td>1.0</td>\n",
              "      <td>0</td>\n",
              "    </tr>\n",
              "    <tr>\n",
              "      <th>2</th>\n",
              "      <td>2</td>\n",
              "      <td>1026564</td>\n",
              "      <td>0.426230</td>\n",
              "      <td>0.107143</td>\n",
              "      <td>0.16</td>\n",
              "      <td>0.000000</td>\n",
              "      <td>0.0</td>\n",
              "      <td>0.107143</td>\n",
              "      <td>1.000000</td>\n",
              "      <td>-0.113145</td>\n",
              "      <td>...</td>\n",
              "      <td>1.0</td>\n",
              "      <td>1.0</td>\n",
              "      <td>1.0</td>\n",
              "      <td>1.0</td>\n",
              "      <td>1.0</td>\n",
              "      <td>1.0</td>\n",
              "      <td>1.0</td>\n",
              "      <td>1.0</td>\n",
              "      <td>1.0</td>\n",
              "      <td>1</td>\n",
              "    </tr>\n",
              "  </tbody>\n",
              "</table>\n",
              "<p>3 rows × 382 columns</p>\n",
              "</div>\n",
              "      <button class=\"colab-df-convert\" onclick=\"convertToInteractive('df-dd335b68-a733-4872-b66d-7519d7b0ab73')\"\n",
              "              title=\"Convert this dataframe to an interactive table.\"\n",
              "              style=\"display:none;\">\n",
              "        \n",
              "  <svg xmlns=\"http://www.w3.org/2000/svg\" height=\"24px\"viewBox=\"0 0 24 24\"\n",
              "       width=\"24px\">\n",
              "    <path d=\"M0 0h24v24H0V0z\" fill=\"none\"/>\n",
              "    <path d=\"M18.56 5.44l.94 2.06.94-2.06 2.06-.94-2.06-.94-.94-2.06-.94 2.06-2.06.94zm-11 1L8.5 8.5l.94-2.06 2.06-.94-2.06-.94L8.5 2.5l-.94 2.06-2.06.94zm10 10l.94 2.06.94-2.06 2.06-.94-2.06-.94-.94-2.06-.94 2.06-2.06.94z\"/><path d=\"M17.41 7.96l-1.37-1.37c-.4-.4-.92-.59-1.43-.59-.52 0-1.04.2-1.43.59L10.3 9.45l-7.72 7.72c-.78.78-.78 2.05 0 2.83L4 21.41c.39.39.9.59 1.41.59.51 0 1.02-.2 1.41-.59l7.78-7.78 2.81-2.81c.8-.78.8-2.07 0-2.86zM5.41 20L4 18.59l7.72-7.72 1.47 1.35L5.41 20z\"/>\n",
              "  </svg>\n",
              "      </button>\n",
              "      \n",
              "  <style>\n",
              "    .colab-df-container {\n",
              "      display:flex;\n",
              "      flex-wrap:wrap;\n",
              "      gap: 12px;\n",
              "    }\n",
              "\n",
              "    .colab-df-convert {\n",
              "      background-color: #E8F0FE;\n",
              "      border: none;\n",
              "      border-radius: 50%;\n",
              "      cursor: pointer;\n",
              "      display: none;\n",
              "      fill: #1967D2;\n",
              "      height: 32px;\n",
              "      padding: 0 0 0 0;\n",
              "      width: 32px;\n",
              "    }\n",
              "\n",
              "    .colab-df-convert:hover {\n",
              "      background-color: #E2EBFA;\n",
              "      box-shadow: 0px 1px 2px rgba(60, 64, 67, 0.3), 0px 1px 3px 1px rgba(60, 64, 67, 0.15);\n",
              "      fill: #174EA6;\n",
              "    }\n",
              "\n",
              "    [theme=dark] .colab-df-convert {\n",
              "      background-color: #3B4455;\n",
              "      fill: #D2E3FC;\n",
              "    }\n",
              "\n",
              "    [theme=dark] .colab-df-convert:hover {\n",
              "      background-color: #434B5C;\n",
              "      box-shadow: 0px 1px 3px 1px rgba(0, 0, 0, 0.15);\n",
              "      filter: drop-shadow(0px 1px 2px rgba(0, 0, 0, 0.3));\n",
              "      fill: #FFFFFF;\n",
              "    }\n",
              "  </style>\n",
              "\n",
              "      <script>\n",
              "        const buttonEl =\n",
              "          document.querySelector('#df-dd335b68-a733-4872-b66d-7519d7b0ab73 button.colab-df-convert');\n",
              "        buttonEl.style.display =\n",
              "          google.colab.kernel.accessAllowed ? 'block' : 'none';\n",
              "\n",
              "        async function convertToInteractive(key) {\n",
              "          const element = document.querySelector('#df-dd335b68-a733-4872-b66d-7519d7b0ab73');\n",
              "          const dataTable =\n",
              "            await google.colab.kernel.invokeFunction('convertToInteractive',\n",
              "                                                     [key], {});\n",
              "          if (!dataTable) return;\n",
              "\n",
              "          const docLinkHtml = 'Like what you see? Visit the ' +\n",
              "            '<a target=\"_blank\" href=https://colab.research.google.com/notebooks/data_table.ipynb>data table notebook</a>'\n",
              "            + ' to learn more about interactive tables.';\n",
              "          element.innerHTML = '';\n",
              "          dataTable['output_type'] = 'display_data';\n",
              "          await google.colab.output.renderOutput(dataTable, element);\n",
              "          const docLink = document.createElement('div');\n",
              "          docLink.innerHTML = docLinkHtml;\n",
              "          element.appendChild(docLink);\n",
              "        }\n",
              "      </script>\n",
              "    </div>\n",
              "  </div>\n",
              "  "
            ]
          },
          "metadata": {},
          "execution_count": 15
        }
      ]
    },
    {
      "cell_type": "code",
      "source": [
        "# selected columns from backward\n",
        "data = data[['phones_used',\n",
        "'handset_age',\n",
        "'cred_score',\n",
        "'cred_score + phones_used',\n",
        "'COSINE(handset_price)',\n",
        "'COSINE(user_months)',\n",
        "'CUM_MAX(handset_age)',\n",
        "'CUM_MEAN(cred_score)',\n",
        "'CUM_MEAN(handset_price)',\n",
        "'CUM_MEAN(phones_used)',\n",
        "'CUM_SUM(cred_score)',\n",
        "'1 / user_months',\n",
        "'cred_score / phones_used',\n",
        "'cred_score / user_months',\n",
        "'handset_age / handset_price',\n",
        "'handset_price / user_months',\n",
        "'phones_used / user_months',\n",
        "'user_months / handset_price',\n",
        "'cred_score % phones_used',\n",
        "'user_months % handset_price',\n",
        "'cred_score * handset_price',\n",
        "'cred_score * user_months',\n",
        "'handset_age * handset_price',\n",
        "'handset_price * phones_used',\n",
        "'handset_price * user_months',\n",
        "'phones_used * user_months',\n",
        "'SINE(handset_price)',\n",
        "'SINE(user_months)',\n",
        "'TANGENT(handset_price)',\n",
        "'TANGENT(user_months)',\n",
        "'area_ATLANTIC SOUTH AREA',\n",
        "'area_CENTRAL/SOUTH TEXAS AREA',\n",
        "'area_DALLAS AREA',\n",
        "'area_DC/MARYLAND/VIRGINIA AREA',\n",
        "'area_GREAT LAKES AREA',\n",
        "'area_HOUSTON AREA',\n",
        "'area_MIDWEST AREA',\n",
        "'area_NORTHWEST/ROCKY MOUNTAIN AREA',\n",
        "'area_OHIO AREA',\n",
        "'area_TENNESSEE AREA',\n",
        "'dualband_N',\n",
        "'web_capable_UNKOWN',\n",
        "'web_capable_WCMB',\n",
        "'manual_limit_False',\n",
        "'PRIZM_code_C',\n",
        "'PRIZM_code_R',\n",
        "'PRIZM_code_S',\n",
        "'PRIZM_code_U',\n",
        "'credit_card_False',\n",
        "'cred_score = manual_limit_False',\n",
        "'cred_score = phones_used_False',\n",
        "'credit_card = phones_used_False',\n",
        "'phones_used > cred_score_False',\n",
        "'user_months > phones_used_False',\n",
        "'handset_age > 0_False',\n",
        "'churn']]"
      ],
      "metadata": {
        "id": "RykewoT_yaaN"
      },
      "execution_count": null,
      "outputs": []
    },
    {
      "cell_type": "code",
      "source": [
        "data.shape"
      ],
      "metadata": {
        "colab": {
          "base_uri": "https://localhost:8080/"
        },
        "id": "xmQPYmNhDhAd",
        "outputId": "e88fd205-b5f5-4694-b70b-149fa864221c"
      },
      "execution_count": null,
      "outputs": [
        {
          "output_type": "execute_result",
          "data": {
            "text/plain": [
              "(90692, 56)"
            ]
          },
          "metadata": {},
          "execution_count": 17
        }
      ]
    },
    {
      "cell_type": "code",
      "source": [
        "data.head(3)"
      ],
      "metadata": {
        "colab": {
          "base_uri": "https://localhost:8080/",
          "height": 272
        },
        "id": "1sENKYwKEGKf",
        "outputId": "f3aa484e-0f75-4b6f-a035-8075be6b05de"
      },
      "execution_count": null,
      "outputs": [
        {
          "output_type": "execute_result",
          "data": {
            "text/plain": [
              "   phones_used  handset_age  cred_score  cred_score + phones_used  \\\n",
              "0     0.071429     0.002194         0.0                  0.071429   \n",
              "1     0.178571     0.000000         0.0                  0.178571   \n",
              "2     0.107143     0.000000         0.0                  0.107143   \n",
              "\n",
              "   COSINE(handset_price)  COSINE(user_months)  CUM_MAX(handset_age)  \\\n",
              "0               0.834519             0.753932              0.002194   \n",
              "1              -0.113145            -0.911166              0.002194   \n",
              "2              -0.113145             0.646945              0.002194   \n",
              "\n",
              "   CUM_MEAN(cred_score)  CUM_MEAN(handset_price)  CUM_MEAN(phones_used)  ...  \\\n",
              "0                   0.0                 0.872352               0.500000  ...   \n",
              "1                   0.0                 0.726960               0.875000  ...   \n",
              "2                   0.0                 0.678496               0.833333  ...   \n",
              "\n",
              "   PRIZM_code_S  PRIZM_code_U  credit_card_False  \\\n",
              "0           1.0           0.0                1.0   \n",
              "1           0.0           0.0                1.0   \n",
              "2           0.0           1.0                0.0   \n",
              "\n",
              "   cred_score = manual_limit_False  cred_score = phones_used_False  \\\n",
              "0                              1.0                             1.0   \n",
              "1                              1.0                             1.0   \n",
              "2                              0.0                             1.0   \n",
              "\n",
              "   credit_card = phones_used_False  phones_used > cred_score_False  \\\n",
              "0                              1.0                             0.0   \n",
              "1                              1.0                             0.0   \n",
              "2                              1.0                             0.0   \n",
              "\n",
              "   user_months > phones_used_False  handset_age > 0_False  churn  \n",
              "0                              0.0                    0.0      0  \n",
              "1                              0.0                    1.0      0  \n",
              "2                              0.0                    1.0      1  \n",
              "\n",
              "[3 rows x 56 columns]"
            ],
            "text/html": [
              "\n",
              "  <div id=\"df-6042b7be-ad69-439d-bf4a-a2143bc2a7af\">\n",
              "    <div class=\"colab-df-container\">\n",
              "      <div>\n",
              "<style scoped>\n",
              "    .dataframe tbody tr th:only-of-type {\n",
              "        vertical-align: middle;\n",
              "    }\n",
              "\n",
              "    .dataframe tbody tr th {\n",
              "        vertical-align: top;\n",
              "    }\n",
              "\n",
              "    .dataframe thead th {\n",
              "        text-align: right;\n",
              "    }\n",
              "</style>\n",
              "<table border=\"1\" class=\"dataframe\">\n",
              "  <thead>\n",
              "    <tr style=\"text-align: right;\">\n",
              "      <th></th>\n",
              "      <th>phones_used</th>\n",
              "      <th>handset_age</th>\n",
              "      <th>cred_score</th>\n",
              "      <th>cred_score + phones_used</th>\n",
              "      <th>COSINE(handset_price)</th>\n",
              "      <th>COSINE(user_months)</th>\n",
              "      <th>CUM_MAX(handset_age)</th>\n",
              "      <th>CUM_MEAN(cred_score)</th>\n",
              "      <th>CUM_MEAN(handset_price)</th>\n",
              "      <th>CUM_MEAN(phones_used)</th>\n",
              "      <th>...</th>\n",
              "      <th>PRIZM_code_S</th>\n",
              "      <th>PRIZM_code_U</th>\n",
              "      <th>credit_card_False</th>\n",
              "      <th>cred_score = manual_limit_False</th>\n",
              "      <th>cred_score = phones_used_False</th>\n",
              "      <th>credit_card = phones_used_False</th>\n",
              "      <th>phones_used &gt; cred_score_False</th>\n",
              "      <th>user_months &gt; phones_used_False</th>\n",
              "      <th>handset_age &gt; 0_False</th>\n",
              "      <th>churn</th>\n",
              "    </tr>\n",
              "  </thead>\n",
              "  <tbody>\n",
              "    <tr>\n",
              "      <th>0</th>\n",
              "      <td>0.071429</td>\n",
              "      <td>0.002194</td>\n",
              "      <td>0.0</td>\n",
              "      <td>0.071429</td>\n",
              "      <td>0.834519</td>\n",
              "      <td>0.753932</td>\n",
              "      <td>0.002194</td>\n",
              "      <td>0.0</td>\n",
              "      <td>0.872352</td>\n",
              "      <td>0.500000</td>\n",
              "      <td>...</td>\n",
              "      <td>1.0</td>\n",
              "      <td>0.0</td>\n",
              "      <td>1.0</td>\n",
              "      <td>1.0</td>\n",
              "      <td>1.0</td>\n",
              "      <td>1.0</td>\n",
              "      <td>0.0</td>\n",
              "      <td>0.0</td>\n",
              "      <td>0.0</td>\n",
              "      <td>0</td>\n",
              "    </tr>\n",
              "    <tr>\n",
              "      <th>1</th>\n",
              "      <td>0.178571</td>\n",
              "      <td>0.000000</td>\n",
              "      <td>0.0</td>\n",
              "      <td>0.178571</td>\n",
              "      <td>-0.113145</td>\n",
              "      <td>-0.911166</td>\n",
              "      <td>0.002194</td>\n",
              "      <td>0.0</td>\n",
              "      <td>0.726960</td>\n",
              "      <td>0.875000</td>\n",
              "      <td>...</td>\n",
              "      <td>0.0</td>\n",
              "      <td>0.0</td>\n",
              "      <td>1.0</td>\n",
              "      <td>1.0</td>\n",
              "      <td>1.0</td>\n",
              "      <td>1.0</td>\n",
              "      <td>0.0</td>\n",
              "      <td>0.0</td>\n",
              "      <td>1.0</td>\n",
              "      <td>0</td>\n",
              "    </tr>\n",
              "    <tr>\n",
              "      <th>2</th>\n",
              "      <td>0.107143</td>\n",
              "      <td>0.000000</td>\n",
              "      <td>0.0</td>\n",
              "      <td>0.107143</td>\n",
              "      <td>-0.113145</td>\n",
              "      <td>0.646945</td>\n",
              "      <td>0.002194</td>\n",
              "      <td>0.0</td>\n",
              "      <td>0.678496</td>\n",
              "      <td>0.833333</td>\n",
              "      <td>...</td>\n",
              "      <td>0.0</td>\n",
              "      <td>1.0</td>\n",
              "      <td>0.0</td>\n",
              "      <td>0.0</td>\n",
              "      <td>1.0</td>\n",
              "      <td>1.0</td>\n",
              "      <td>0.0</td>\n",
              "      <td>0.0</td>\n",
              "      <td>1.0</td>\n",
              "      <td>1</td>\n",
              "    </tr>\n",
              "  </tbody>\n",
              "</table>\n",
              "<p>3 rows × 56 columns</p>\n",
              "</div>\n",
              "      <button class=\"colab-df-convert\" onclick=\"convertToInteractive('df-6042b7be-ad69-439d-bf4a-a2143bc2a7af')\"\n",
              "              title=\"Convert this dataframe to an interactive table.\"\n",
              "              style=\"display:none;\">\n",
              "        \n",
              "  <svg xmlns=\"http://www.w3.org/2000/svg\" height=\"24px\"viewBox=\"0 0 24 24\"\n",
              "       width=\"24px\">\n",
              "    <path d=\"M0 0h24v24H0V0z\" fill=\"none\"/>\n",
              "    <path d=\"M18.56 5.44l.94 2.06.94-2.06 2.06-.94-2.06-.94-.94-2.06-.94 2.06-2.06.94zm-11 1L8.5 8.5l.94-2.06 2.06-.94-2.06-.94L8.5 2.5l-.94 2.06-2.06.94zm10 10l.94 2.06.94-2.06 2.06-.94-2.06-.94-.94-2.06-.94 2.06-2.06.94z\"/><path d=\"M17.41 7.96l-1.37-1.37c-.4-.4-.92-.59-1.43-.59-.52 0-1.04.2-1.43.59L10.3 9.45l-7.72 7.72c-.78.78-.78 2.05 0 2.83L4 21.41c.39.39.9.59 1.41.59.51 0 1.02-.2 1.41-.59l7.78-7.78 2.81-2.81c.8-.78.8-2.07 0-2.86zM5.41 20L4 18.59l7.72-7.72 1.47 1.35L5.41 20z\"/>\n",
              "  </svg>\n",
              "      </button>\n",
              "      \n",
              "  <style>\n",
              "    .colab-df-container {\n",
              "      display:flex;\n",
              "      flex-wrap:wrap;\n",
              "      gap: 12px;\n",
              "    }\n",
              "\n",
              "    .colab-df-convert {\n",
              "      background-color: #E8F0FE;\n",
              "      border: none;\n",
              "      border-radius: 50%;\n",
              "      cursor: pointer;\n",
              "      display: none;\n",
              "      fill: #1967D2;\n",
              "      height: 32px;\n",
              "      padding: 0 0 0 0;\n",
              "      width: 32px;\n",
              "    }\n",
              "\n",
              "    .colab-df-convert:hover {\n",
              "      background-color: #E2EBFA;\n",
              "      box-shadow: 0px 1px 2px rgba(60, 64, 67, 0.3), 0px 1px 3px 1px rgba(60, 64, 67, 0.15);\n",
              "      fill: #174EA6;\n",
              "    }\n",
              "\n",
              "    [theme=dark] .colab-df-convert {\n",
              "      background-color: #3B4455;\n",
              "      fill: #D2E3FC;\n",
              "    }\n",
              "\n",
              "    [theme=dark] .colab-df-convert:hover {\n",
              "      background-color: #434B5C;\n",
              "      box-shadow: 0px 1px 3px 1px rgba(0, 0, 0, 0.15);\n",
              "      filter: drop-shadow(0px 1px 2px rgba(0, 0, 0, 0.3));\n",
              "      fill: #FFFFFF;\n",
              "    }\n",
              "  </style>\n",
              "\n",
              "      <script>\n",
              "        const buttonEl =\n",
              "          document.querySelector('#df-6042b7be-ad69-439d-bf4a-a2143bc2a7af button.colab-df-convert');\n",
              "        buttonEl.style.display =\n",
              "          google.colab.kernel.accessAllowed ? 'block' : 'none';\n",
              "\n",
              "        async function convertToInteractive(key) {\n",
              "          const element = document.querySelector('#df-6042b7be-ad69-439d-bf4a-a2143bc2a7af');\n",
              "          const dataTable =\n",
              "            await google.colab.kernel.invokeFunction('convertToInteractive',\n",
              "                                                     [key], {});\n",
              "          if (!dataTable) return;\n",
              "\n",
              "          const docLinkHtml = 'Like what you see? Visit the ' +\n",
              "            '<a target=\"_blank\" href=https://colab.research.google.com/notebooks/data_table.ipynb>data table notebook</a>'\n",
              "            + ' to learn more about interactive tables.';\n",
              "          element.innerHTML = '';\n",
              "          dataTable['output_type'] = 'display_data';\n",
              "          await google.colab.output.renderOutput(dataTable, element);\n",
              "          const docLink = document.createElement('div');\n",
              "          docLink.innerHTML = docLinkHtml;\n",
              "          element.appendChild(docLink);\n",
              "        }\n",
              "      </script>\n",
              "    </div>\n",
              "  </div>\n",
              "  "
            ]
          },
          "metadata": {},
          "execution_count": 18
        }
      ]
    },
    {
      "cell_type": "code",
      "source": [
        "data[data.columns[data.isnull().any()]].isnull().sum() * 100 / data.shape[0]"
      ],
      "metadata": {
        "colab": {
          "base_uri": "https://localhost:8080/"
        },
        "id": "mWSlzp86hFvV",
        "outputId": "376ce583-7aa3-46e8-fb61-088586c936e4"
      },
      "execution_count": null,
      "outputs": [
        {
          "output_type": "execute_result",
          "data": {
            "text/plain": [
              "Series([], dtype: float64)"
            ]
          },
          "metadata": {},
          "execution_count": 19
        }
      ]
    },
    {
      "cell_type": "code",
      "source": [
        "# sample for parameter search\n",
        "data = data.sample(frac =.1)\n",
        "data.shape"
      ],
      "metadata": {
        "colab": {
          "base_uri": "https://localhost:8080/"
        },
        "id": "WHNOunYwZeTp",
        "outputId": "8ae8c05e-5814-4c77-9db4-5c9626f86e95"
      },
      "execution_count": null,
      "outputs": [
        {
          "output_type": "execute_result",
          "data": {
            "text/plain": [
              "(9069, 56)"
            ]
          },
          "metadata": {},
          "execution_count": 20
        }
      ]
    },
    {
      "cell_type": "code",
      "source": [
        "data['churn'].value_counts()"
      ],
      "metadata": {
        "colab": {
          "base_uri": "https://localhost:8080/"
        },
        "id": "5Hgay-zGhtq5",
        "outputId": "5c64d5e5-6624-4b8d-f343-b1ab6be840fa"
      },
      "execution_count": null,
      "outputs": [
        {
          "output_type": "execute_result",
          "data": {
            "text/plain": [
              "0    4577\n",
              "1    4492\n",
              "Name: churn, dtype: int64"
            ]
          },
          "metadata": {},
          "execution_count": 21
        }
      ]
    },
    {
      "cell_type": "code",
      "source": [
        "# Data split\n",
        "X_train, X_test, y_train, y_test = train_test_split(\n",
        "    data.drop(labels=['churn'], axis=1),\n",
        "    data['churn'],\n",
        "    test_size=0.1,\n",
        "    random_state=63)\n",
        "\n",
        "X_train.shape, X_test.shape, y_train.shape, y_test.shape"
      ],
      "metadata": {
        "colab": {
          "base_uri": "https://localhost:8080/"
        },
        "id": "J4nys__sEkLX",
        "outputId": "81f1fba1-5dcc-47db-c232-fab336adad94"
      },
      "execution_count": null,
      "outputs": [
        {
          "output_type": "execute_result",
          "data": {
            "text/plain": [
              "((16324, 55), (1814, 55), (16324,), (1814,))"
            ]
          },
          "metadata": {},
          "execution_count": 10
        }
      ]
    },
    {
      "cell_type": "code",
      "source": [
        "# parameter tuning\n",
        "# n_estimators = [] \n",
        "# 100 > 10; 1000 > 50, 100; 2000 > 500, 1000, 1500\n",
        "# best: \n",
        "n_estimators = [1000, 2000]\n",
        "\n",
        "#max_depth = [None, 5, 10, 20]\n",
        "# 5 > 10; 5 > 1, 3; \n",
        "# best: \n",
        "max_depth = [5, 10, 20]\n",
        "\n",
        "# max_features = []\n",
        "# \n",
        "# best: 100\n",
        "max_features = [55]\n",
        "\n",
        "#bootstrap = [True, False]\n",
        "# False < True;\n",
        "# best: \n",
        "bootstrap = [True]\n",
        "\n",
        "\n",
        "param_grid = dict(n_estimators=n_estimators, \n",
        "                  max_depth=max_depth,\n",
        "                  \n",
        "                  max_features=max_features, \n",
        "                  bootstrap=bootstrap)"
      ],
      "metadata": {
        "id": "b-7NgBVhjujI"
      },
      "execution_count": null,
      "outputs": []
    },
    {
      "cell_type": "code",
      "source": [
        "rf = RandomForestClassifier(random_state=635)\n",
        "\n",
        "grid = GridSearchCV(estimator=rf, \n",
        "                    param_grid=param_grid,\n",
        "                    cv=3,\n",
        "                    verbose=2,\n",
        "                    n_jobs=-1)\n",
        "\n",
        "grid_result = grid.fit(X_train, y_train)"
      ],
      "metadata": {
        "colab": {
          "base_uri": "https://localhost:8080/"
        },
        "id": "1xTnd3cDkBlx",
        "outputId": "21eed099-b6f2-4ccf-f1bc-0880f2e2b793"
      },
      "execution_count": null,
      "outputs": [
        {
          "output_type": "stream",
          "name": "stdout",
          "text": [
            "Fitting 3 folds for each of 6 candidates, totalling 18 fits\n"
          ]
        },
        {
          "output_type": "stream",
          "name": "stderr",
          "text": [
            "/usr/local/lib/python3.7/dist-packages/joblib/externals/loky/process_executor.py:705: UserWarning: A worker stopped while some jobs were given to the executor. This can be caused by a too short worker timeout or by a memory leak.\n",
            "  \"timeout or by a memory leak.\", UserWarning\n"
          ]
        }
      ]
    },
    {
      "cell_type": "code",
      "source": [
        "grid_result.best_estimator_"
      ],
      "metadata": {
        "id": "0JdQWUkkkNso",
        "colab": {
          "base_uri": "https://localhost:8080/"
        },
        "outputId": "b1697339-513d-4af2-cdb4-dce47eeed276"
      },
      "execution_count": null,
      "outputs": [
        {
          "output_type": "execute_result",
          "data": {
            "text/plain": [
              "RandomForestClassifier(max_depth=5, max_features=55, n_estimators=2000,\n",
              "                       random_state=635)"
            ]
          },
          "metadata": {},
          "execution_count": 42
        }
      ]
    },
    {
      "cell_type": "code",
      "source": [
        "grid_result.best_params_"
      ],
      "metadata": {
        "id": "tONGD2MgkWwQ",
        "colab": {
          "base_uri": "https://localhost:8080/"
        },
        "outputId": "93921174-61cc-4d47-adb6-9ae11b55db62"
      },
      "execution_count": null,
      "outputs": [
        {
          "output_type": "execute_result",
          "data": {
            "text/plain": [
              "{'bootstrap': True, 'max_depth': 5, 'max_features': 55, 'n_estimators': 2000}"
            ]
          },
          "metadata": {},
          "execution_count": 43
        }
      ]
    },
    {
      "cell_type": "code",
      "source": [
        "grid_result.best_score_"
      ],
      "metadata": {
        "id": "8ODiUwH2kX6o",
        "colab": {
          "base_uri": "https://localhost:8080/"
        },
        "outputId": "593adf43-59b4-4ec1-cd9c-10f95e4d2afc"
      },
      "execution_count": null,
      "outputs": [
        {
          "output_type": "execute_result",
          "data": {
            "text/plain": [
              "0.5959932957607926"
            ]
          },
          "metadata": {},
          "execution_count": 44
        }
      ]
    },
    {
      "cell_type": "code",
      "source": [
        "# summarize results\n",
        "print(\"Best: %f using %s\" % (grid_result.best_score_, grid_result.best_params_))\n",
        "means = grid_result.cv_results_['mean_test_score']\n",
        "stds = grid_result.cv_results_['std_test_score']\n",
        "params = grid_result.cv_results_['params']\n",
        "for mean, stdev, param in zip(means, stds, params):\n",
        "    print(\"%f (%f) with: %r\" % (mean, stdev, param))"
      ],
      "metadata": {
        "id": "vb8xutDckiHp",
        "colab": {
          "base_uri": "https://localhost:8080/"
        },
        "outputId": "028d681f-8014-416c-c0c6-2a5ea4b956e2"
      },
      "execution_count": null,
      "outputs": [
        {
          "output_type": "stream",
          "name": "stdout",
          "text": [
            "Best: 0.595993 using {'bootstrap': True, 'max_depth': 5, 'max_features': 55, 'n_estimators': 2000}\n",
            "0.595503 (0.004113) with: {'bootstrap': True, 'max_depth': 5, 'max_features': 55, 'n_estimators': 1000}\n",
            "0.595993 (0.004700) with: {'bootstrap': True, 'max_depth': 5, 'max_features': 55, 'n_estimators': 2000}\n",
            "0.588948 (0.004322) with: {'bootstrap': True, 'max_depth': 10, 'max_features': 55, 'n_estimators': 1000}\n",
            "0.587723 (0.003637) with: {'bootstrap': True, 'max_depth': 10, 'max_features': 55, 'n_estimators': 2000}\n",
            "0.568672 (0.001700) with: {'bootstrap': True, 'max_depth': 20, 'max_features': 55, 'n_estimators': 1000}\n",
            "0.569346 (0.003536) with: {'bootstrap': True, 'max_depth': 20, 'max_features': 55, 'n_estimators': 2000}\n"
          ]
        }
      ]
    },
    {
      "cell_type": "code",
      "source": [
        "# Make predictions\n",
        "rf = grid_result.best_estimator_"
      ],
      "metadata": {
        "id": "wotYxilN64gk"
      },
      "execution_count": null,
      "outputs": []
    },
    {
      "cell_type": "markdown",
      "source": [
        "CV"
      ],
      "metadata": {
        "id": "hFl_uRM4ogPX"
      }
    },
    {
      "cell_type": "code",
      "source": [
        "# cross validation\n",
        "X_cv = data.drop(labels=['churn'], axis=1)\n",
        "y_cv = data['churn']\n",
        "\n",
        "X_cv.shape, y_cv.shape"
      ],
      "metadata": {
        "id": "SyRena_v7Jfb",
        "colab": {
          "base_uri": "https://localhost:8080/"
        },
        "outputId": "e62e500f-8b32-4392-fe8c-553a137ec894"
      },
      "execution_count": null,
      "outputs": [
        {
          "output_type": "execute_result",
          "data": {
            "text/plain": [
              "((9069, 55), (9069,))"
            ]
          },
          "metadata": {},
          "execution_count": 47
        }
      ]
    },
    {
      "cell_type": "code",
      "source": [
        "scores = cross_val_score(rf, X_cv, y_cv, cv=10)\n",
        "print(scores)\n",
        "print(scores.mean())"
      ],
      "metadata": {
        "id": "KTF7ieMXofmf",
        "colab": {
          "base_uri": "https://localhost:8080/"
        },
        "outputId": "0b6b8430-703e-4afa-b37b-68f895437fdd"
      },
      "execution_count": null,
      "outputs": [
        {
          "output_type": "stream",
          "name": "stdout",
          "text": [
            "[0.60639471 0.61080485 0.59095921 0.57772878 0.59426681 0.57772878\n",
            " 0.56560088 0.57993385 0.59206174 0.59492274]\n",
            "0.5890402340393944\n"
          ]
        }
      ]
    },
    {
      "cell_type": "markdown",
      "source": [
        "Prediction"
      ],
      "metadata": {
        "id": "U-X3RZyWoh1v"
      }
    },
    {
      "cell_type": "code",
      "source": [
        "# prediction\n",
        "y_pred_test = rf.predict(X_test)"
      ],
      "metadata": {
        "id": "5tdX1-wX7M2p"
      },
      "execution_count": null,
      "outputs": []
    },
    {
      "cell_type": "code",
      "source": [
        "accuracy_score(y_test, y_pred_test) # acc score"
      ],
      "metadata": {
        "id": "eOE7XRxO_ou9",
        "colab": {
          "base_uri": "https://localhost:8080/"
        },
        "outputId": "3159e456-8862-48b6-bc21-bfd691a9d185"
      },
      "execution_count": null,
      "outputs": [
        {
          "output_type": "execute_result",
          "data": {
            "text/plain": [
              "0.5942668136714443"
            ]
          },
          "metadata": {},
          "execution_count": 50
        }
      ]
    },
    {
      "cell_type": "code",
      "source": [
        "# confusion matrix\n",
        "confusion_matrix(y_test,y_pred_test)"
      ],
      "metadata": {
        "id": "2nEkeucE8JJ0",
        "colab": {
          "base_uri": "https://localhost:8080/"
        },
        "outputId": "367b4098-43ea-4f99-f1b6-c2c960bc1f3e"
      },
      "execution_count": null,
      "outputs": [
        {
          "output_type": "execute_result",
          "data": {
            "text/plain": [
              "array([[459, 473],\n",
              "       [263, 619]])"
            ]
          },
          "metadata": {},
          "execution_count": 51
        }
      ]
    },
    {
      "cell_type": "code",
      "source": [
        "# confusion matrix\n",
        "print(classification_report(y_test, y_pred_test))"
      ],
      "metadata": {
        "id": "3ym3k9ZPA1Lw",
        "colab": {
          "base_uri": "https://localhost:8080/"
        },
        "outputId": "c71e3dc9-6960-4655-a7d2-e64202c925e0"
      },
      "execution_count": null,
      "outputs": [
        {
          "output_type": "stream",
          "name": "stdout",
          "text": [
            "              precision    recall  f1-score   support\n",
            "\n",
            "           0       0.64      0.49      0.56       932\n",
            "           1       0.57      0.70      0.63       882\n",
            "\n",
            "    accuracy                           0.59      1814\n",
            "   macro avg       0.60      0.60      0.59      1814\n",
            "weighted avg       0.60      0.59      0.59      1814\n",
            "\n"
          ]
        }
      ]
    },
    {
      "cell_type": "code",
      "source": [
        "# ROC AUC\n",
        "rf_probs = rf.predict_proba(X_test)[:, 1]\n",
        "roc_value = roc_auc_score(y_test, rf_probs)\n",
        "roc_value"
      ],
      "metadata": {
        "id": "hSxDDScN87f_",
        "colab": {
          "base_uri": "https://localhost:8080/"
        },
        "outputId": "924491dc-edc0-4426-8bf5-33f39fb95734"
      },
      "execution_count": null,
      "outputs": [
        {
          "output_type": "execute_result",
          "data": {
            "text/plain": [
              "0.6407489319046646"
            ]
          },
          "metadata": {},
          "execution_count": 53
        }
      ]
    },
    {
      "cell_type": "code",
      "source": [
        "import scikitplot as skplt\n",
        "probs = rf.predict_proba(X_test)\n",
        "skplt.metrics.plot_roc(y_test, probs)\n",
        "plt.show()"
      ],
      "metadata": {
        "colab": {
          "base_uri": "https://localhost:8080/",
          "height": 584
        },
        "id": "q8lW20AL9qi2",
        "outputId": "96befa17-ce10-4203-9687-a41d8d559473"
      },
      "execution_count": null,
      "outputs": [
        {
          "output_type": "display_data",
          "data": {
            "text/plain": [
              "<Figure size 1080x720 with 1 Axes>"
            ],
            "image/png": "[encoded data removed]"
          },
          "metadata": {}
        }
      ]
    },
    {
      "cell_type": "code",
      "source": [
        "skplt.metrics.plot_precision_recall_curve(y_test, probs)\n",
        "plt.show()"
      ],
      "metadata": {
        "colab": {
          "base_uri": "https://localhost:8080/",
          "height": 686
        },
        "id": "KC0wNn4j9sHM",
        "outputId": "6f3e3e9b-0995-48c6-ee64-83ff015b95bc"
      },
      "execution_count": null,
      "outputs": [
        {
          "output_type": "stream",
          "name": "stderr",
          "text": [
            "/usr/local/lib/python3.7/dist-packages/sklearn/utils/deprecation.py:87: FutureWarning: Function plot_precision_recall_curve is deprecated; This will be removed in v0.5.0. Please use scikitplot.metrics.plot_precision_recall instead.\n",
            "  warnings.warn(msg, category=FutureWarning)\n"
          ]
        },
        {
          "output_type": "display_data",
          "data": {
            "text/plain": [
              "<Figure size 1080x720 with 1 Axes>"
            ],
            "image/png": "[encoded data removed]"
          },
          "metadata": {}
        }
      ]
    },
    {
      "cell_type": "code",
      "source": [
        "plt.figure()\n",
        "plot_roc_curve(rf,X_test,y_test,\n",
        "               color=\"darkorange\",\n",
        "               lw=2)\n",
        "plt.plot([0, 1], [0, 1], color=\"navy\", lw=2, linestyle=\"--\")\n",
        "plt.show()"
      ],
      "metadata": {
        "id": "PjjdiOoY9i11",
        "colab": {
          "base_uri": "https://localhost:8080/",
          "height": 644
        },
        "outputId": "9a3055cd-f40f-4b7f-b419-5d21d17395ba"
      },
      "execution_count": null,
      "outputs": [
        {
          "output_type": "stream",
          "name": "stderr",
          "text": [
            "/usr/local/lib/python3.7/dist-packages/sklearn/utils/deprecation.py:87: FutureWarning: Function plot_roc_curve is deprecated; Function :func:`plot_roc_curve` is deprecated in 1.0 and will be removed in 1.2. Use one of the class methods: :meth:`sklearn.metric.RocCurveDisplay.from_predictions` or :meth:`sklearn.metric.RocCurveDisplay.from_estimator`.\n",
            "  warnings.warn(msg, category=FutureWarning)\n"
          ]
        },
        {
          "output_type": "display_data",
          "data": {
            "text/plain": [
              "<Figure size 1080x720 with 0 Axes>"
            ]
          },
          "metadata": {}
        },
        {
          "output_type": "display_data",
          "data": {
            "text/plain": [
              "<Figure size 1080x720 with 1 Axes>"
            ],
            "image/png": "[encoded data removed]"
          },
          "metadata": {}
        }
      ]
    },
    {
      "cell_type": "code",
      "source": [
        "# feature importance\n",
        "# Extract feature importances\n",
        "fi = pd.DataFrame({'feature': list(X_train.columns),\n",
        "                   'importance': rf.feature_importances_}).\\\n",
        "                    sort_values('importance', ascending = False)\n",
        "\n",
        "# Display\n",
        "fi.head(20)"
      ],
      "metadata": {
        "id": "PJJSn1UG_E_R",
        "colab": {
          "base_uri": "https://localhost:8080/",
          "height": 677
        },
        "outputId": "ae8ad199-1991-4f5b-d4f4-1ef9ef951d4c"
      },
      "execution_count": null,
      "outputs": [
        {
          "output_type": "execute_result",
          "data": {
            "text/plain": [
              "                        feature  importance\n",
              "1                   handset_age    0.348031\n",
              "11              1 / user_months    0.135153\n",
              "24  handset_price * user_months    0.073127\n",
              "25    phones_used * user_months    0.068317\n",
              "19  user_months % handset_price    0.047264\n",
              "22  handset_age * handset_price    0.043055\n",
              "14  handset_age / handset_price    0.033022\n",
              "13     cred_score / user_months    0.031455\n",
              "9         CUM_MEAN(phones_used)    0.024087\n",
              "8       CUM_MEAN(handset_price)    0.023831\n",
              "16    phones_used / user_months    0.021664\n",
              "7          CUM_MEAN(cred_score)    0.016649\n",
              "21     cred_score * user_months    0.011575\n",
              "10          CUM_SUM(cred_score)    0.010683\n",
              "48            credit_card_False    0.010514\n",
              "43           manual_limit_False    0.008698\n",
              "27            SINE(user_months)    0.008485\n",
              "23  handset_price * phones_used    0.006744\n",
              "5           COSINE(user_months)    0.005872\n",
              "29         TANGENT(user_months)    0.005799"
            ],
            "text/html": [
              "\n",
              "  <div id=\"df-8f769b95-9da0-4dd7-94b2-965405dbea6b\">\n",
              "    <div class=\"colab-df-container\">\n",
              "      <div>\n",
              "<style scoped>\n",
              "    .dataframe tbody tr th:only-of-type {\n",
              "        vertical-align: middle;\n",
              "    }\n",
              "\n",
              "    .dataframe tbody tr th {\n",
              "        vertical-align: top;\n",
              "    }\n",
              "\n",
              "    .dataframe thead th {\n",
              "        text-align: right;\n",
              "    }\n",
              "</style>\n",
              "<table border=\"1\" class=\"dataframe\">\n",
              "  <thead>\n",
              "    <tr style=\"text-align: right;\">\n",
              "      <th></th>\n",
              "      <th>feature</th>\n",
              "      <th>importance</th>\n",
              "    </tr>\n",
              "  </thead>\n",
              "  <tbody>\n",
              "    <tr>\n",
              "      <th>1</th>\n",
              "      <td>handset_age</td>\n",
              "      <td>0.348031</td>\n",
              "    </tr>\n",
              "    <tr>\n",
              "      <th>11</th>\n",
              "      <td>1 / user_months</td>\n",
              "      <td>0.135153</td>\n",
              "    </tr>\n",
              "    <tr>\n",
              "      <th>24</th>\n",
              "      <td>handset_price * user_months</td>\n",
              "      <td>0.073127</td>\n",
              "    </tr>\n",
              "    <tr>\n",
              "      <th>25</th>\n",
              "      <td>phones_used * user_months</td>\n",
              "      <td>0.068317</td>\n",
              "    </tr>\n",
              "    <tr>\n",
              "      <th>19</th>\n",
              "      <td>user_months % handset_price</td>\n",
              "      <td>0.047264</td>\n",
              "    </tr>\n",
              "    <tr>\n",
              "      <th>22</th>\n",
              "      <td>handset_age * handset_price</td>\n",
              "      <td>0.043055</td>\n",
              "    </tr>\n",
              "    <tr>\n",
              "      <th>14</th>\n",
              "      <td>handset_age / handset_price</td>\n",
              "      <td>0.033022</td>\n",
              "    </tr>\n",
              "    <tr>\n",
              "      <th>13</th>\n",
              "      <td>cred_score / user_months</td>\n",
              "      <td>0.031455</td>\n",
              "    </tr>\n",
              "    <tr>\n",
              "      <th>9</th>\n",
              "      <td>CUM_MEAN(phones_used)</td>\n",
              "      <td>0.024087</td>\n",
              "    </tr>\n",
              "    <tr>\n",
              "      <th>8</th>\n",
              "      <td>CUM_MEAN(handset_price)</td>\n",
              "      <td>0.023831</td>\n",
              "    </tr>\n",
              "    <tr>\n",
              "      <th>16</th>\n",
              "      <td>phones_used / user_months</td>\n",
              "      <td>0.021664</td>\n",
              "    </tr>\n",
              "    <tr>\n",
              "      <th>7</th>\n",
              "      <td>CUM_MEAN(cred_score)</td>\n",
              "      <td>0.016649</td>\n",
              "    </tr>\n",
              "    <tr>\n",
              "      <th>21</th>\n",
              "      <td>cred_score * user_months</td>\n",
              "      <td>0.011575</td>\n",
              "    </tr>\n",
              "    <tr>\n",
              "      <th>10</th>\n",
              "      <td>CUM_SUM(cred_score)</td>\n",
              "      <td>0.010683</td>\n",
              "    </tr>\n",
              "    <tr>\n",
              "      <th>48</th>\n",
              "      <td>credit_card_False</td>\n",
              "      <td>0.010514</td>\n",
              "    </tr>\n",
              "    <tr>\n",
              "      <th>43</th>\n",
              "      <td>manual_limit_False</td>\n",
              "      <td>0.008698</td>\n",
              "    </tr>\n",
              "    <tr>\n",
              "      <th>27</th>\n",
              "      <td>SINE(user_months)</td>\n",
              "      <td>0.008485</td>\n",
              "    </tr>\n",
              "    <tr>\n",
              "      <th>23</th>\n",
              "      <td>handset_price * phones_used</td>\n",
              "      <td>0.006744</td>\n",
              "    </tr>\n",
              "    <tr>\n",
              "      <th>5</th>\n",
              "      <td>COSINE(user_months)</td>\n",
              "      <td>0.005872</td>\n",
              "    </tr>\n",
              "    <tr>\n",
              "      <th>29</th>\n",
              "      <td>TANGENT(user_months)</td>\n",
              "      <td>0.005799</td>\n",
              "    </tr>\n",
              "  </tbody>\n",
              "</table>\n",
              "</div>\n",
              "      <button class=\"colab-df-convert\" onclick=\"convertToInteractive('df-8f769b95-9da0-4dd7-94b2-965405dbea6b')\"\n",
              "              title=\"Convert this dataframe to an interactive table.\"\n",
              "              style=\"display:none;\">\n",
              "        \n",
              "  <svg xmlns=\"http://www.w3.org/2000/svg\" height=\"24px\"viewBox=\"0 0 24 24\"\n",
              "       width=\"24px\">\n",
              "    <path d=\"M0 0h24v24H0V0z\" fill=\"none\"/>\n",
              "    <path d=\"M18.56 5.44l.94 2.06.94-2.06 2.06-.94-2.06-.94-.94-2.06-.94 2.06-2.06.94zm-11 1L8.5 8.5l.94-2.06 2.06-.94-2.06-.94L8.5 2.5l-.94 2.06-2.06.94zm10 10l.94 2.06.94-2.06 2.06-.94-2.06-.94-.94-2.06-.94 2.06-2.06.94z\"/><path d=\"M17.41 7.96l-1.37-1.37c-.4-.4-.92-.59-1.43-.59-.52 0-1.04.2-1.43.59L10.3 9.45l-7.72 7.72c-.78.78-.78 2.05 0 2.83L4 21.41c.39.39.9.59 1.41.59.51 0 1.02-.2 1.41-.59l7.78-7.78 2.81-2.81c.8-.78.8-2.07 0-2.86zM5.41 20L4 18.59l7.72-7.72 1.47 1.35L5.41 20z\"/>\n",
              "  </svg>\n",
              "      </button>\n",
              "      \n",
              "  <style>\n",
              "    .colab-df-container {\n",
              "      display:flex;\n",
              "      flex-wrap:wrap;\n",
              "      gap: 12px;\n",
              "    }\n",
              "\n",
              "    .colab-df-convert {\n",
              "      background-color: #E8F0FE;\n",
              "      border: none;\n",
              "      border-radius: 50%;\n",
              "      cursor: pointer;\n",
              "      display: none;\n",
              "      fill: #1967D2;\n",
              "      height: 32px;\n",
              "      padding: 0 0 0 0;\n",
              "      width: 32px;\n",
              "    }\n",
              "\n",
              "    .colab-df-convert:hover {\n",
              "      background-color: #E2EBFA;\n",
              "      box-shadow: 0px 1px 2px rgba(60, 64, 67, 0.3), 0px 1px 3px 1px rgba(60, 64, 67, 0.15);\n",
              "      fill: #174EA6;\n",
              "    }\n",
              "\n",
              "    [theme=dark] .colab-df-convert {\n",
              "      background-color: #3B4455;\n",
              "      fill: #D2E3FC;\n",
              "    }\n",
              "\n",
              "    [theme=dark] .colab-df-convert:hover {\n",
              "      background-color: #434B5C;\n",
              "      box-shadow: 0px 1px 3px 1px rgba(0, 0, 0, 0.15);\n",
              "      filter: drop-shadow(0px 1px 2px rgba(0, 0, 0, 0.3));\n",
              "      fill: #FFFFFF;\n",
              "    }\n",
              "  </style>\n",
              "\n",
              "      <script>\n",
              "        const buttonEl =\n",
              "          document.querySelector('#df-8f769b95-9da0-4dd7-94b2-965405dbea6b button.colab-df-convert');\n",
              "        buttonEl.style.display =\n",
              "          google.colab.kernel.accessAllowed ? 'block' : 'none';\n",
              "\n",
              "        async function convertToInteractive(key) {\n",
              "          const element = document.querySelector('#df-8f769b95-9da0-4dd7-94b2-965405dbea6b');\n",
              "          const dataTable =\n",
              "            await google.colab.kernel.invokeFunction('convertToInteractive',\n",
              "                                                     [key], {});\n",
              "          if (!dataTable) return;\n",
              "\n",
              "          const docLinkHtml = 'Like what you see? Visit the ' +\n",
              "            '<a target=\"_blank\" href=https://colab.research.google.com/notebooks/data_table.ipynb>data table notebook</a>'\n",
              "            + ' to learn more about interactive tables.';\n",
              "          element.innerHTML = '';\n",
              "          dataTable['output_type'] = 'display_data';\n",
              "          await google.colab.output.renderOutput(dataTable, element);\n",
              "          const docLink = document.createElement('div');\n",
              "          docLink.innerHTML = docLinkHtml;\n",
              "          element.appendChild(docLink);\n",
              "        }\n",
              "      </script>\n",
              "    </div>\n",
              "  </div>\n",
              "  "
            ]
          },
          "metadata": {},
          "execution_count": 55
        }
      ]
    },
    {
      "cell_type": "code",
      "source": [
        "# SHAPELY model explainer\n",
        "#!pip install shap\n",
        "#import shap "
      ],
      "metadata": {
        "id": "MzoGtFugAeml"
      },
      "execution_count": null,
      "outputs": []
    },
    {
      "cell_type": "code",
      "source": [
        "# Create Tree Explainer object that can calculate shap values\n",
        "#explainer = shap.TreeExplainer(rf)"
      ],
      "metadata": {
        "id": "CcvLzFl2Bq0l"
      },
      "execution_count": null,
      "outputs": []
    },
    {
      "cell_type": "code",
      "source": [
        "# sample\n",
        "#choosen_instance = X_test.loc[[62173]]\n",
        "#shap_values = explainer.shap_values(choosen_instance)\n",
        "#shap.initjs()\n",
        "#shap.force_plot(explainer.expected_value[1], shap_values[1], choosen_instance)"
      ],
      "metadata": {
        "id": "wKD4DlPNCDQU"
      },
      "execution_count": null,
      "outputs": []
    },
    {
      "cell_type": "code",
      "source": [
        "# sample\n",
        "#shap.summary_plot(shap_values, X_train)"
      ],
      "metadata": {
        "id": "DkTOpgH-DHvM"
      },
      "execution_count": null,
      "outputs": []
    },
    {
      "cell_type": "code",
      "source": [
        "# shap feature importance\n",
        "#shap_values = shap.TreeExplainer(rf).shap_values(X_train)\n",
        "#shap.summary_plot(shap_values, X_train, plot_type=\"bar\")"
      ],
      "metadata": {
        "id": "PaXgHHIkFPJ8"
      },
      "execution_count": null,
      "outputs": []
    }
  ]
}
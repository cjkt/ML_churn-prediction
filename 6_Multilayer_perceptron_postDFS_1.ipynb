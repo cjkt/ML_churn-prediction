{
  "nbformat": 4,
  "nbformat_minor": 0,
  "metadata": {
    "colab": {
      "name": "MLP_4_tuner_postDFS_1.ipynb",
      "provenance": [],
      "collapsed_sections": []
    },
    "kernelspec": {
      "name": "python3",
      "display_name": "Python 3"
    },
    "language_info": {
      "name": "python"
    },
    "accelerator": "TPU"
  },
  "cells": [
    {
      "cell_type": "code",
      "source": [
        "!pip install -q -U keras-tuner\n",
        "import kerastuner as kt"
      ],
      "metadata": {
        "colab": {
          "base_uri": "https://localhost:8080/"
        },
        "id": "HFXVqS8acZS8",
        "outputId": "28b1c15d-bb74-48ec-c178-82b6100f4128"
      },
      "execution_count": null,
      "outputs": [
        {
          "output_type": "stream",
          "name": "stdout",
          "text": [
            "\u001b[?25l\r\u001b[K     |██▌                             | 10 kB 20.9 MB/s eta 0:00:01\r\u001b[K     |█████                           | 20 kB 11.0 MB/s eta 0:00:01\r\u001b[K     |███████▍                        | 30 kB 8.8 MB/s eta 0:00:01\r\u001b[K     |█████████▉                      | 40 kB 4.7 MB/s eta 0:00:01\r\u001b[K     |████████████▎                   | 51 kB 4.6 MB/s eta 0:00:01\r\u001b[K     |██████████████▊                 | 61 kB 5.4 MB/s eta 0:00:01\r\u001b[K     |█████████████████▏              | 71 kB 5.5 MB/s eta 0:00:01\r\u001b[K     |███████████████████▋            | 81 kB 5.4 MB/s eta 0:00:01\r\u001b[K     |██████████████████████          | 92 kB 6.0 MB/s eta 0:00:01\r\u001b[K     |████████████████████████▌       | 102 kB 5.4 MB/s eta 0:00:01\r\u001b[K     |███████████████████████████     | 112 kB 5.4 MB/s eta 0:00:01\r\u001b[K     |█████████████████████████████▍  | 122 kB 5.4 MB/s eta 0:00:01\r\u001b[K     |███████████████████████████████▉| 133 kB 5.4 MB/s eta 0:00:01\r\u001b[K     |████████████████████████████████| 133 kB 5.4 MB/s \n",
            "\u001b[?25h"
          ]
        },
        {
          "output_type": "stream",
          "name": "stderr",
          "text": [
            "/usr/local/lib/python3.7/dist-packages/ipykernel_launcher.py:2: DeprecationWarning: `import kerastuner` is deprecated, please use `import keras_tuner`.\n",
            "  \n"
          ]
        }
      ]
    },
    {
      "cell_type": "code",
      "execution_count": null,
      "metadata": {
        "id": "wxBJpsJNwREQ",
        "colab": {
          "base_uri": "https://localhost:8080/"
        },
        "outputId": "2c4d8c7d-1f36-4169-e751-c92c370f5886"
      },
      "outputs": [
        {
          "output_type": "stream",
          "name": "stdout",
          "text": [
            "Drive already mounted at /content/drive; to attempt to forcibly remount, call drive.mount(\"/content/drive\", force_remount=True).\n"
          ]
        }
      ],
      "source": [
        "import os\n",
        "import pandas as pd\n",
        "import numpy as np\n",
        "import seaborn as sns\n",
        "import matplotlib.pyplot as plt\n",
        "import plotly.express as px\n",
        "import plotly.graph_objs as go\n",
        "from plotly.offline import iplot\n",
        "import math\n",
        "from sklearn.impute import SimpleImputer\n",
        "from pandas.plotting import scatter_matrix\n",
        "from sklearn.metrics import mean_squared_error\n",
        "from sklearn.model_selection import train_test_split\n",
        "from sklearn.preprocessing import MinMaxScaler\n",
        "from statsmodels.tsa.stattools import adfuller\n",
        "\n",
        "from tensorflow import keras\n",
        "from tensorflow.keras.models import Sequential\n",
        "from tensorflow.keras.layers import Dense, Dropout,Activation\n",
        "from tensorflow.keras.optimizers import Adam\n",
        "from tensorflow.keras import layers\n",
        "from keras.utils.vis_utils import plot_model\n",
        "from google.colab import drive\n",
        "drive.mount('/content/drive')\n"
      ]
    },
    {
      "cell_type": "code",
      "source": [
        "# main data\n",
        "df = pd.read_csv('/content/drive/My Drive/thesis data/churn-data_11_DFS_trans_only_pearsons-selected.csv')\n",
        "data = df.drop(df.columns[0:2,], axis=1)\n",
        "print(data.shape)"
      ],
      "metadata": {
        "id": "cL0HODPf3Eb-",
        "colab": {
          "base_uri": "https://localhost:8080/"
        },
        "outputId": "39705bcf-6ca8-40c5-fa0b-854150f11a5b"
      },
      "execution_count": null,
      "outputs": [
        {
          "output_type": "stream",
          "name": "stdout",
          "text": [
            "(90692, 380)\n"
          ]
        }
      ]
    },
    {
      "cell_type": "code",
      "source": [
        ""
      ],
      "metadata": {
        "id": "nygiXQ1QT9Pf"
      },
      "execution_count": null,
      "outputs": []
    },
    {
      "cell_type": "code",
      "source": [
        "# selected columns from backward\n",
        "data = data[['phones_used',\n",
        "'handset_age',\n",
        "'cred_score',\n",
        "'cred_score + phones_used',\n",
        "'COSINE(handset_price)',\n",
        "'COSINE(user_months)',\n",
        "'CUM_MAX(handset_age)',\n",
        "'CUM_MEAN(cred_score)',\n",
        "'CUM_MEAN(handset_price)',\n",
        "'CUM_MEAN(phones_used)',\n",
        "'CUM_SUM(cred_score)',\n",
        "'1 / user_months',\n",
        "'cred_score / phones_used',\n",
        "'cred_score / user_months',\n",
        "'handset_age / handset_price',\n",
        "'handset_price / user_months',\n",
        "'phones_used / user_months',\n",
        "'user_months / handset_price',\n",
        "'cred_score % phones_used',\n",
        "'user_months % handset_price',\n",
        "'cred_score * handset_price',\n",
        "'cred_score * user_months',\n",
        "'handset_age * handset_price',\n",
        "'handset_price * phones_used',\n",
        "'handset_price * user_months',\n",
        "'phones_used * user_months',\n",
        "'SINE(handset_price)',\n",
        "'SINE(user_months)',\n",
        "'TANGENT(handset_price)',\n",
        "'TANGENT(user_months)',\n",
        "'area_ATLANTIC SOUTH AREA',\n",
        "'area_CENTRAL/SOUTH TEXAS AREA',\n",
        "'area_DALLAS AREA',\n",
        "'area_DC/MARYLAND/VIRGINIA AREA',\n",
        "'area_GREAT LAKES AREA',\n",
        "'area_HOUSTON AREA',\n",
        "'area_MIDWEST AREA',\n",
        "'area_NORTHWEST/ROCKY MOUNTAIN AREA',\n",
        "'area_OHIO AREA',\n",
        "'area_TENNESSEE AREA',\n",
        "'dualband_N',\n",
        "'web_capable_UNKOWN',\n",
        "'web_capable_WCMB',\n",
        "'manual_limit_False',\n",
        "'PRIZM_code_C',\n",
        "'PRIZM_code_R',\n",
        "'PRIZM_code_S',\n",
        "'PRIZM_code_U',\n",
        "'credit_card_False',\n",
        "'cred_score = manual_limit_False',\n",
        "'cred_score = phones_used_False',\n",
        "'credit_card = phones_used_False',\n",
        "'phones_used > cred_score_False',\n",
        "'user_months > phones_used_False',\n",
        "'handset_age > 0_False',\n",
        "'churn']]"
      ],
      "metadata": {
        "id": "X7j3pgwO4Y8N"
      },
      "execution_count": null,
      "outputs": []
    },
    {
      "cell_type": "code",
      "source": [
        "df.head(3)"
      ],
      "metadata": {
        "colab": {
          "base_uri": "https://localhost:8080/",
          "height": 272
        },
        "id": "mEvEnE934O01",
        "outputId": "c372fb88-2fd6-4310-ca02-8ef2b99583e6"
      },
      "execution_count": null,
      "outputs": [
        {
          "output_type": "execute_result",
          "data": {
            "text/plain": [
              "   Unnamed: 0  Customer_ID  user_months  phones_used  handset_price  \\\n",
              "0           0      1096894     0.114754     0.071429           0.24   \n",
              "1           1      1082855     0.147541     0.178571           0.16   \n",
              "2           2      1026564     0.426230     0.107143           0.16   \n",
              "\n",
              "   handset_age  cred_score  cred_score + phones_used  COSINE(handset_age)  \\\n",
              "0     0.002194         0.0                  0.071429            -0.653644   \n",
              "1     0.000000         0.0                  0.178571             1.000000   \n",
              "2     0.000000         0.0                  0.107143             1.000000   \n",
              "\n",
              "   COSINE(handset_price)  ...  dualband != None_True  \\\n",
              "0               0.834519  ...                    1.0   \n",
              "1              -0.113145  ...                    1.0   \n",
              "2              -0.113145  ...                    1.0   \n",
              "\n",
              "   handset_age != None_True  handset_price != None_True  \\\n",
              "0                       1.0                         1.0   \n",
              "1                       1.0                         1.0   \n",
              "2                       1.0                         1.0   \n",
              "\n",
              "   manual_limit != None_True  new_user != None_True  phones_used != None_True  \\\n",
              "0                        1.0                    1.0                       1.0   \n",
              "1                        1.0                    1.0                       1.0   \n",
              "2                        1.0                    1.0                       1.0   \n",
              "\n",
              "   refurb_or_new != None_True  user_months != None_True  \\\n",
              "0                         1.0                       1.0   \n",
              "1                         1.0                       1.0   \n",
              "2                         1.0                       1.0   \n",
              "\n",
              "   web_capable != None_True  churn  \n",
              "0                       1.0      0  \n",
              "1                       1.0      0  \n",
              "2                       1.0      1  \n",
              "\n",
              "[3 rows x 382 columns]"
            ],
            "text/html": [
              "\n",
              "  <div id=\"df-e371bff5-4cf5-4995-9c0c-009f91460802\">\n",
              "    <div class=\"colab-df-container\">\n",
              "      <div>\n",
              "<style scoped>\n",
              "    .dataframe tbody tr th:only-of-type {\n",
              "        vertical-align: middle;\n",
              "    }\n",
              "\n",
              "    .dataframe tbody tr th {\n",
              "        vertical-align: top;\n",
              "    }\n",
              "\n",
              "    .dataframe thead th {\n",
              "        text-align: right;\n",
              "    }\n",
              "</style>\n",
              "<table border=\"1\" class=\"dataframe\">\n",
              "  <thead>\n",
              "    <tr style=\"text-align: right;\">\n",
              "      <th></th>\n",
              "      <th>Unnamed: 0</th>\n",
              "      <th>Customer_ID</th>\n",
              "      <th>user_months</th>\n",
              "      <th>phones_used</th>\n",
              "      <th>handset_price</th>\n",
              "      <th>handset_age</th>\n",
              "      <th>cred_score</th>\n",
              "      <th>cred_score + phones_used</th>\n",
              "      <th>COSINE(handset_age)</th>\n",
              "      <th>COSINE(handset_price)</th>\n",
              "      <th>...</th>\n",
              "      <th>dualband != None_True</th>\n",
              "      <th>handset_age != None_True</th>\n",
              "      <th>handset_price != None_True</th>\n",
              "      <th>manual_limit != None_True</th>\n",
              "      <th>new_user != None_True</th>\n",
              "      <th>phones_used != None_True</th>\n",
              "      <th>refurb_or_new != None_True</th>\n",
              "      <th>user_months != None_True</th>\n",
              "      <th>web_capable != None_True</th>\n",
              "      <th>churn</th>\n",
              "    </tr>\n",
              "  </thead>\n",
              "  <tbody>\n",
              "    <tr>\n",
              "      <th>0</th>\n",
              "      <td>0</td>\n",
              "      <td>1096894</td>\n",
              "      <td>0.114754</td>\n",
              "      <td>0.071429</td>\n",
              "      <td>0.24</td>\n",
              "      <td>0.002194</td>\n",
              "      <td>0.0</td>\n",
              "      <td>0.071429</td>\n",
              "      <td>-0.653644</td>\n",
              "      <td>0.834519</td>\n",
              "      <td>...</td>\n",
              "      <td>1.0</td>\n",
              "      <td>1.0</td>\n",
              "      <td>1.0</td>\n",
              "      <td>1.0</td>\n",
              "      <td>1.0</td>\n",
              "      <td>1.0</td>\n",
              "      <td>1.0</td>\n",
              "      <td>1.0</td>\n",
              "      <td>1.0</td>\n",
              "      <td>0</td>\n",
              "    </tr>\n",
              "    <tr>\n",
              "      <th>1</th>\n",
              "      <td>1</td>\n",
              "      <td>1082855</td>\n",
              "      <td>0.147541</td>\n",
              "      <td>0.178571</td>\n",
              "      <td>0.16</td>\n",
              "      <td>0.000000</td>\n",
              "      <td>0.0</td>\n",
              "      <td>0.178571</td>\n",
              "      <td>1.000000</td>\n",
              "      <td>-0.113145</td>\n",
              "      <td>...</td>\n",
              "      <td>1.0</td>\n",
              "      <td>1.0</td>\n",
              "      <td>1.0</td>\n",
              "      <td>1.0</td>\n",
              "      <td>1.0</td>\n",
              "      <td>1.0</td>\n",
              "      <td>1.0</td>\n",
              "      <td>1.0</td>\n",
              "      <td>1.0</td>\n",
              "      <td>0</td>\n",
              "    </tr>\n",
              "    <tr>\n",
              "      <th>2</th>\n",
              "      <td>2</td>\n",
              "      <td>1026564</td>\n",
              "      <td>0.426230</td>\n",
              "      <td>0.107143</td>\n",
              "      <td>0.16</td>\n",
              "      <td>0.000000</td>\n",
              "      <td>0.0</td>\n",
              "      <td>0.107143</td>\n",
              "      <td>1.000000</td>\n",
              "      <td>-0.113145</td>\n",
              "      <td>...</td>\n",
              "      <td>1.0</td>\n",
              "      <td>1.0</td>\n",
              "      <td>1.0</td>\n",
              "      <td>1.0</td>\n",
              "      <td>1.0</td>\n",
              "      <td>1.0</td>\n",
              "      <td>1.0</td>\n",
              "      <td>1.0</td>\n",
              "      <td>1.0</td>\n",
              "      <td>1</td>\n",
              "    </tr>\n",
              "  </tbody>\n",
              "</table>\n",
              "<p>3 rows × 382 columns</p>\n",
              "</div>\n",
              "      <button class=\"colab-df-convert\" onclick=\"convertToInteractive('df-e371bff5-4cf5-4995-9c0c-009f91460802')\"\n",
              "              title=\"Convert this dataframe to an interactive table.\"\n",
              "              style=\"display:none;\">\n",
              "        \n",
              "  <svg xmlns=\"http://www.w3.org/2000/svg\" height=\"24px\"viewBox=\"0 0 24 24\"\n",
              "       width=\"24px\">\n",
              "    <path d=\"M0 0h24v24H0V0z\" fill=\"none\"/>\n",
              "    <path d=\"M18.56 5.44l.94 2.06.94-2.06 2.06-.94-2.06-.94-.94-2.06-.94 2.06-2.06.94zm-11 1L8.5 8.5l.94-2.06 2.06-.94-2.06-.94L8.5 2.5l-.94 2.06-2.06.94zm10 10l.94 2.06.94-2.06 2.06-.94-2.06-.94-.94-2.06-.94 2.06-2.06.94z\"/><path d=\"M17.41 7.96l-1.37-1.37c-.4-.4-.92-.59-1.43-.59-.52 0-1.04.2-1.43.59L10.3 9.45l-7.72 7.72c-.78.78-.78 2.05 0 2.83L4 21.41c.39.39.9.59 1.41.59.51 0 1.02-.2 1.41-.59l7.78-7.78 2.81-2.81c.8-.78.8-2.07 0-2.86zM5.41 20L4 18.59l7.72-7.72 1.47 1.35L5.41 20z\"/>\n",
              "  </svg>\n",
              "      </button>\n",
              "      \n",
              "  <style>\n",
              "    .colab-df-container {\n",
              "      display:flex;\n",
              "      flex-wrap:wrap;\n",
              "      gap: 12px;\n",
              "    }\n",
              "\n",
              "    .colab-df-convert {\n",
              "      background-color: #E8F0FE;\n",
              "      border: none;\n",
              "      border-radius: 50%;\n",
              "      cursor: pointer;\n",
              "      display: none;\n",
              "      fill: #1967D2;\n",
              "      height: 32px;\n",
              "      padding: 0 0 0 0;\n",
              "      width: 32px;\n",
              "    }\n",
              "\n",
              "    .colab-df-convert:hover {\n",
              "      background-color: #E2EBFA;\n",
              "      box-shadow: 0px 1px 2px rgba(60, 64, 67, 0.3), 0px 1px 3px 1px rgba(60, 64, 67, 0.15);\n",
              "      fill: #174EA6;\n",
              "    }\n",
              "\n",
              "    [theme=dark] .colab-df-convert {\n",
              "      background-color: #3B4455;\n",
              "      fill: #D2E3FC;\n",
              "    }\n",
              "\n",
              "    [theme=dark] .colab-df-convert:hover {\n",
              "      background-color: #434B5C;\n",
              "      box-shadow: 0px 1px 3px 1px rgba(0, 0, 0, 0.15);\n",
              "      filter: drop-shadow(0px 1px 2px rgba(0, 0, 0, 0.3));\n",
              "      fill: #FFFFFF;\n",
              "    }\n",
              "  </style>\n",
              "\n",
              "      <script>\n",
              "        const buttonEl =\n",
              "          document.querySelector('#df-e371bff5-4cf5-4995-9c0c-009f91460802 button.colab-df-convert');\n",
              "        buttonEl.style.display =\n",
              "          google.colab.kernel.accessAllowed ? 'block' : 'none';\n",
              "\n",
              "        async function convertToInteractive(key) {\n",
              "          const element = document.querySelector('#df-e371bff5-4cf5-4995-9c0c-009f91460802');\n",
              "          const dataTable =\n",
              "            await google.colab.kernel.invokeFunction('convertToInteractive',\n",
              "                                                     [key], {});\n",
              "          if (!dataTable) return;\n",
              "\n",
              "          const docLinkHtml = 'Like what you see? Visit the ' +\n",
              "            '<a target=\"_blank\" href=https://colab.research.google.com/notebooks/data_table.ipynb>data table notebook</a>'\n",
              "            + ' to learn more about interactive tables.';\n",
              "          element.innerHTML = '';\n",
              "          dataTable['output_type'] = 'display_data';\n",
              "          await google.colab.output.renderOutput(dataTable, element);\n",
              "          const docLink = document.createElement('div');\n",
              "          docLink.innerHTML = docLinkHtml;\n",
              "          element.appendChild(docLink);\n",
              "        }\n",
              "      </script>\n",
              "    </div>\n",
              "  </div>\n",
              "  "
            ]
          },
          "metadata": {},
          "execution_count": 7
        }
      ]
    },
    {
      "cell_type": "code",
      "source": [
        "data.shape"
      ],
      "metadata": {
        "id": "G5GnwziR5pyY",
        "colab": {
          "base_uri": "https://localhost:8080/"
        },
        "outputId": "35d6dc59-565a-407f-a73c-5619feb3d893"
      },
      "execution_count": null,
      "outputs": [
        {
          "output_type": "execute_result",
          "data": {
            "text/plain": [
              "(90692, 56)"
            ]
          },
          "metadata": {},
          "execution_count": 8
        }
      ]
    },
    {
      "cell_type": "code",
      "source": [
        "data[data.columns[data.isnull().any()]].isnull().sum() * 100 / data.shape[0]"
      ],
      "metadata": {
        "colab": {
          "base_uri": "https://localhost:8080/"
        },
        "id": "dPM47qB14Wkc",
        "outputId": "d800c1cb-4db0-4d3f-f6bb-29a218cad9b7"
      },
      "execution_count": null,
      "outputs": [
        {
          "output_type": "execute_result",
          "data": {
            "text/plain": [
              "Series([], dtype: float64)"
            ]
          },
          "metadata": {},
          "execution_count": 9
        }
      ]
    },
    {
      "cell_type": "code",
      "source": [
        "# sample for parameter search\n",
        "data = data.sample(frac =.1)\n",
        "data.shape"
      ],
      "metadata": {
        "colab": {
          "base_uri": "https://localhost:8080/"
        },
        "id": "R9BjiTG_4dB8",
        "outputId": "aca21c0e-2b16-4af0-96b2-5f8d39b527b3"
      },
      "execution_count": null,
      "outputs": [
        {
          "output_type": "execute_result",
          "data": {
            "text/plain": [
              "(9069, 56)"
            ]
          },
          "metadata": {},
          "execution_count": 10
        }
      ]
    },
    {
      "cell_type": "code",
      "source": [
        "# Data split\n",
        "X_train, X_test, y_train, y_test = train_test_split(\n",
        "    data.drop(labels=['churn'], axis=1),\n",
        "    data['churn'],\n",
        "    test_size=0.1,\n",
        "    random_state=63)\n",
        "\n",
        "X_train.shape, X_test.shape, y_train.shape, y_test.shape"
      ],
      "metadata": {
        "colab": {
          "base_uri": "https://localhost:8080/"
        },
        "id": "iXxgIRFD4fO7",
        "outputId": "010360ae-f5f7-4cfc-ce8a-f78b5fbb8961"
      },
      "execution_count": null,
      "outputs": [
        {
          "output_type": "execute_result",
          "data": {
            "text/plain": [
              "((8162, 55), (907, 55), (8162,), (907,))"
            ]
          },
          "metadata": {},
          "execution_count": 11
        }
      ]
    },
    {
      "cell_type": "code",
      "source": [
        "def build_model(hp):\n",
        "  model= keras.models.Sequential()\n",
        "\n",
        "  model.add(Dense(hp.Int(\"input_units\",\n",
        "                         min_value=55,\n",
        "                         max_value=55,\n",
        "                         step=1), input_dim=55, activation='relu')) # input layer\n",
        "\n",
        "  for i in range(hp.Int(\"n_layers\", 1, 5)): # hidden layers\n",
        "    model.add(Dense(hp.Int(f\"dense_{i}_units\",\n",
        "                         min_value=1,\n",
        "                         max_value=64,\n",
        "                         step=8), activation = 'relu'))\n",
        "\n",
        "  model.add(Dense(1)) # output layer\n",
        "\n",
        "  model.compile(optimizer='adam',loss='binary_crossentropy',metrics=['accuracy'])\n",
        "\n",
        "  return model"
      ],
      "metadata": {
        "id": "6vkk6_0ED9sc"
      },
      "execution_count": null,
      "outputs": []
    },
    {
      "cell_type": "code",
      "source": [
        "tuner = kt.tuners.RandomSearch(build_model,\n",
        "                               objective = \"val_accuracy\",\n",
        "                               max_trials = 50, # 100\n",
        "                               overwrite=True)\n",
        "\n",
        "tuner.search(x=X_train,\n",
        "             y=y_train,\n",
        "             epochs=100, # 100\n",
        "             validation_data=(X_test,y_test))"
      ],
      "metadata": {
        "colab": {
          "base_uri": "https://localhost:8080/"
        },
        "id": "RfiD08bnI75m",
        "outputId": "0a053c98-632e-4a48-bd87-86da3db40bbd"
      },
      "execution_count": null,
      "outputs": [
        {
          "output_type": "stream",
          "name": "stdout",
          "text": [
            "Trial 50 Complete [00h 01m 21s]\n",
            "val_accuracy: 0.5854465365409851\n",
            "\n",
            "Best val_accuracy So Far: 0.615215003490448\n",
            "Total elapsed time: 01h 08m 43s\n",
            "INFO:tensorflow:Oracle triggered exit\n"
          ]
        }
      ]
    },
    {
      "cell_type": "code",
      "source": [
        "data = df.drop(df.columns[0:2,], axis=1)\n",
        "print(data.shape)\n",
        "# selected columns from backward\n",
        "data = data[['phones_used',\n",
        "'handset_age',\n",
        "'cred_score',\n",
        "'cred_score + phones_used',\n",
        "'COSINE(handset_price)',\n",
        "'COSINE(user_months)',\n",
        "'CUM_MAX(handset_age)',\n",
        "'CUM_MEAN(cred_score)',\n",
        "'CUM_MEAN(handset_price)',\n",
        "'CUM_MEAN(phones_used)',\n",
        "'CUM_SUM(cred_score)',\n",
        "'1 / user_months',\n",
        "'cred_score / phones_used',\n",
        "'cred_score / user_months',\n",
        "'handset_age / handset_price',\n",
        "'handset_price / user_months',\n",
        "'phones_used / user_months',\n",
        "'user_months / handset_price',\n",
        "'cred_score % phones_used',\n",
        "'user_months % handset_price',\n",
        "'cred_score * handset_price',\n",
        "'cred_score * user_months',\n",
        "'handset_age * handset_price',\n",
        "'handset_price * phones_used',\n",
        "'handset_price * user_months',\n",
        "'phones_used * user_months',\n",
        "'SINE(handset_price)',\n",
        "'SINE(user_months)',\n",
        "'TANGENT(handset_price)',\n",
        "'TANGENT(user_months)',\n",
        "'area_ATLANTIC SOUTH AREA',\n",
        "'area_CENTRAL/SOUTH TEXAS AREA',\n",
        "'area_DALLAS AREA',\n",
        "'area_DC/MARYLAND/VIRGINIA AREA',\n",
        "'area_GREAT LAKES AREA',\n",
        "'area_HOUSTON AREA',\n",
        "'area_MIDWEST AREA',\n",
        "'area_NORTHWEST/ROCKY MOUNTAIN AREA',\n",
        "'area_OHIO AREA',\n",
        "'area_TENNESSEE AREA',\n",
        "'dualband_N',\n",
        "'web_capable_UNKOWN',\n",
        "'web_capable_WCMB',\n",
        "'manual_limit_False',\n",
        "'PRIZM_code_C',\n",
        "'PRIZM_code_R',\n",
        "'PRIZM_code_S',\n",
        "'PRIZM_code_U',\n",
        "'credit_card_False',\n",
        "'cred_score = manual_limit_False',\n",
        "'cred_score = phones_used_False',\n",
        "'credit_card = phones_used_False',\n",
        "'phones_used > cred_score_False',\n",
        "'user_months > phones_used_False',\n",
        "'handset_age > 0_False',\n",
        "'churn']]"
      ],
      "metadata": {
        "colab": {
          "base_uri": "https://localhost:8080/"
        },
        "id": "jKts9u_wUFTk",
        "outputId": "d3822abb-b523-406b-dccc-8e11d93068f6"
      },
      "execution_count": null,
      "outputs": [
        {
          "output_type": "stream",
          "name": "stdout",
          "text": [
            "(90692, 380)\n"
          ]
        }
      ]
    },
    {
      "cell_type": "code",
      "source": [
        "# Data split\n",
        "X_train, X_test, y_train, y_test = train_test_split(\n",
        "    data.drop(labels=['churn'], axis=1),\n",
        "    data['churn'],\n",
        "    test_size=0.1,\n",
        "    random_state=63)\n",
        "\n",
        "X_train.shape, X_test.shape, y_train.shape, y_test.shape"
      ],
      "metadata": {
        "colab": {
          "base_uri": "https://localhost:8080/"
        },
        "id": "dlqy4SPRCZh4",
        "outputId": "446291d1-989e-4293-f35f-6b855caafb76"
      },
      "execution_count": null,
      "outputs": [
        {
          "output_type": "execute_result",
          "data": {
            "text/plain": [
              "((81622, 55), (9070, 55), (81622,), (9070,))"
            ]
          },
          "metadata": {},
          "execution_count": 63
        }
      ]
    },
    {
      "cell_type": "code",
      "source": [
        ""
      ],
      "metadata": {
        "id": "0J-yc1fKjuPB"
      },
      "execution_count": null,
      "outputs": []
    },
    {
      "cell_type": "code",
      "source": [
        "# best model\n",
        "best_hp = tuner.get_best_hyperparameters()[0]\n",
        "model = build_model(best_hp)\n",
        "history = model.fit(x=X_train,\n",
        "                    y=y_train, \n",
        "                    validation_data=(X_test, y_test), epochs=100)"
      ],
      "metadata": {
        "id": "imXMm7Yieb34",
        "colab": {
          "base_uri": "https://localhost:8080/"
        },
        "outputId": "4b01ac4c-f321-4798-faf0-e714e4857536"
      },
      "execution_count": null,
      "outputs": [
        {
          "output_type": "stream",
          "name": "stdout",
          "text": [
            "Epoch 1/100\n",
            "2551/2551 [==============================] - 9s 3ms/step - loss: 0.6780 - accuracy: 0.5724 - val_loss: 0.6728 - val_accuracy: 0.5836\n",
            "Epoch 2/100\n",
            "2551/2551 [==============================] - 6s 2ms/step - loss: 0.6683 - accuracy: 0.5904 - val_loss: 0.6763 - val_accuracy: 0.5777\n",
            "Epoch 3/100\n",
            "2551/2551 [==============================] - 6s 2ms/step - loss: 0.6658 - accuracy: 0.5939 - val_loss: 0.6699 - val_accuracy: 0.5839\n",
            "Epoch 4/100\n",
            "2551/2551 [==============================] - 7s 3ms/step - loss: 0.6643 - accuracy: 0.5982 - val_loss: 0.6685 - val_accuracy: 0.5856\n",
            "Epoch 5/100\n",
            "2551/2551 [==============================] - 7s 3ms/step - loss: 0.6637 - accuracy: 0.5955 - val_loss: 0.6678 - val_accuracy: 0.5897\n",
            "Epoch 6/100\n",
            "2551/2551 [==============================] - 7s 3ms/step - loss: 0.6625 - accuracy: 0.5980 - val_loss: 0.6682 - val_accuracy: 0.5865\n",
            "Epoch 7/100\n",
            "2551/2551 [==============================] - 7s 3ms/step - loss: 0.6622 - accuracy: 0.5998 - val_loss: 0.6677 - val_accuracy: 0.5872\n",
            "Epoch 8/100\n",
            "2551/2551 [==============================] - 7s 3ms/step - loss: 0.6616 - accuracy: 0.5982 - val_loss: 0.6703 - val_accuracy: 0.5901\n",
            "Epoch 9/100\n",
            "2551/2551 [==============================] - 6s 2ms/step - loss: 0.6608 - accuracy: 0.6007 - val_loss: 0.6686 - val_accuracy: 0.5888\n",
            "Epoch 10/100\n",
            "2551/2551 [==============================] - 6s 2ms/step - loss: 0.6605 - accuracy: 0.6014 - val_loss: 0.6688 - val_accuracy: 0.5869\n",
            "Epoch 11/100\n",
            "2551/2551 [==============================] - 7s 3ms/step - loss: 0.6600 - accuracy: 0.6021 - val_loss: 0.6680 - val_accuracy: 0.5878\n",
            "Epoch 12/100\n",
            "2551/2551 [==============================] - 8s 3ms/step - loss: 0.6597 - accuracy: 0.6040 - val_loss: 0.6693 - val_accuracy: 0.5873\n",
            "Epoch 13/100\n",
            "2551/2551 [==============================] - 7s 3ms/step - loss: 0.6594 - accuracy: 0.6035 - val_loss: 0.6780 - val_accuracy: 0.5787\n",
            "Epoch 14/100\n",
            "2551/2551 [==============================] - 6s 2ms/step - loss: 0.6587 - accuracy: 0.6048 - val_loss: 0.6694 - val_accuracy: 0.5902\n",
            "Epoch 15/100\n",
            "2551/2551 [==============================] - 7s 3ms/step - loss: 0.6583 - accuracy: 0.6048 - val_loss: 0.6760 - val_accuracy: 0.5907\n",
            "Epoch 16/100\n",
            "2551/2551 [==============================] - 7s 3ms/step - loss: 0.6578 - accuracy: 0.6077 - val_loss: 0.6753 - val_accuracy: 0.5912\n",
            "Epoch 17/100\n",
            "2551/2551 [==============================] - 6s 3ms/step - loss: 0.6571 - accuracy: 0.6069 - val_loss: 0.6688 - val_accuracy: 0.5881\n",
            "Epoch 18/100\n",
            "2551/2551 [==============================] - 7s 3ms/step - loss: 0.6571 - accuracy: 0.6054 - val_loss: 0.6688 - val_accuracy: 0.5889\n",
            "Epoch 19/100\n",
            "2551/2551 [==============================] - 7s 3ms/step - loss: 0.6567 - accuracy: 0.6072 - val_loss: 0.6735 - val_accuracy: 0.5825\n",
            "Epoch 20/100\n",
            "2551/2551 [==============================] - 6s 2ms/step - loss: 0.6561 - accuracy: 0.6067 - val_loss: 0.6698 - val_accuracy: 0.5899\n",
            "Epoch 21/100\n",
            "2551/2551 [==============================] - 6s 2ms/step - loss: 0.6557 - accuracy: 0.6064 - val_loss: 0.6706 - val_accuracy: 0.5897\n",
            "Epoch 22/100\n",
            "2551/2551 [==============================] - 6s 2ms/step - loss: 0.6562 - accuracy: 0.6078 - val_loss: 0.6688 - val_accuracy: 0.5837\n",
            "Epoch 23/100\n",
            "2551/2551 [==============================] - 7s 3ms/step - loss: 0.6559 - accuracy: 0.6080 - val_loss: 0.6731 - val_accuracy: 0.5806\n",
            "Epoch 24/100\n",
            "2551/2551 [==============================] - 7s 3ms/step - loss: 0.6560 - accuracy: 0.6084 - val_loss: 0.6756 - val_accuracy: 0.5878\n",
            "Epoch 25/100\n",
            "2551/2551 [==============================] - 7s 3ms/step - loss: 0.6555 - accuracy: 0.6085 - val_loss: 0.6736 - val_accuracy: 0.5800\n",
            "Epoch 26/100\n",
            "2551/2551 [==============================] - 7s 3ms/step - loss: 0.6544 - accuracy: 0.6090 - val_loss: 0.6743 - val_accuracy: 0.5814\n",
            "Epoch 27/100\n",
            "2551/2551 [==============================] - 7s 3ms/step - loss: 0.6542 - accuracy: 0.6095 - val_loss: 0.6893 - val_accuracy: 0.5875\n",
            "Epoch 28/100\n",
            "2551/2551 [==============================] - 7s 3ms/step - loss: 0.6551 - accuracy: 0.6096 - val_loss: 0.6751 - val_accuracy: 0.5848\n",
            "Epoch 29/100\n",
            "2551/2551 [==============================] - 6s 2ms/step - loss: 0.6540 - accuracy: 0.6108 - val_loss: 0.6738 - val_accuracy: 0.5819\n",
            "Epoch 30/100\n",
            "2551/2551 [==============================] - 7s 3ms/step - loss: 0.6538 - accuracy: 0.6118 - val_loss: 0.6817 - val_accuracy: 0.5858\n",
            "Epoch 31/100\n",
            "2551/2551 [==============================] - 7s 3ms/step - loss: 0.6530 - accuracy: 0.6116 - val_loss: 0.6780 - val_accuracy: 0.5870\n",
            "Epoch 32/100\n",
            "2551/2551 [==============================] - 7s 3ms/step - loss: 0.6535 - accuracy: 0.6122 - val_loss: 0.6758 - val_accuracy: 0.5843\n",
            "Epoch 33/100\n",
            "2551/2551 [==============================] - 6s 2ms/step - loss: 0.6532 - accuracy: 0.6103 - val_loss: 0.6716 - val_accuracy: 0.5865\n",
            "Epoch 34/100\n",
            "2551/2551 [==============================] - 7s 3ms/step - loss: 0.6530 - accuracy: 0.6117 - val_loss: 0.6758 - val_accuracy: 0.5850\n",
            "Epoch 35/100\n",
            "2551/2551 [==============================] - 7s 3ms/step - loss: 0.6519 - accuracy: 0.6120 - val_loss: 0.6825 - val_accuracy: 0.5857\n",
            "Epoch 36/100\n",
            "2551/2551 [==============================] - 6s 2ms/step - loss: 0.6521 - accuracy: 0.6120 - val_loss: 0.6804 - val_accuracy: 0.5889\n",
            "Epoch 37/100\n",
            "2551/2551 [==============================] - 6s 2ms/step - loss: 0.6522 - accuracy: 0.6131 - val_loss: 0.6825 - val_accuracy: 0.5862\n",
            "Epoch 38/100\n",
            "2551/2551 [==============================] - 7s 3ms/step - loss: 0.6513 - accuracy: 0.6126 - val_loss: 0.6793 - val_accuracy: 0.5861\n",
            "Epoch 39/100\n",
            "2551/2551 [==============================] - 6s 3ms/step - loss: 0.6526 - accuracy: 0.6123 - val_loss: 0.6814 - val_accuracy: 0.5852\n",
            "Epoch 40/100\n",
            "2551/2551 [==============================] - 6s 2ms/step - loss: 0.6519 - accuracy: 0.6121 - val_loss: 0.6878 - val_accuracy: 0.5871\n",
            "Epoch 41/100\n",
            "2551/2551 [==============================] - 6s 2ms/step - loss: 0.6521 - accuracy: 0.6132 - val_loss: 0.6770 - val_accuracy: 0.5845\n",
            "Epoch 42/100\n",
            "2551/2551 [==============================] - 7s 3ms/step - loss: 0.6513 - accuracy: 0.6142 - val_loss: 0.6841 - val_accuracy: 0.5873\n",
            "Epoch 43/100\n",
            "2551/2551 [==============================] - 6s 2ms/step - loss: 0.6520 - accuracy: 0.6142 - val_loss: 0.6770 - val_accuracy: 0.5868\n",
            "Epoch 44/100\n",
            "2551/2551 [==============================] - 6s 2ms/step - loss: 0.6506 - accuracy: 0.6142 - val_loss: 0.6789 - val_accuracy: 0.5841\n",
            "Epoch 45/100\n",
            "2551/2551 [==============================] - 7s 3ms/step - loss: 0.6512 - accuracy: 0.6134 - val_loss: 0.6862 - val_accuracy: 0.5895\n",
            "Epoch 46/100\n",
            "2551/2551 [==============================] - 6s 2ms/step - loss: 0.6510 - accuracy: 0.6147 - val_loss: 0.6731 - val_accuracy: 0.5837\n",
            "Epoch 47/100\n",
            "2551/2551 [==============================] - 6s 2ms/step - loss: 0.6504 - accuracy: 0.6158 - val_loss: 0.6700 - val_accuracy: 0.5914\n",
            "Epoch 48/100\n",
            "2551/2551 [==============================] - 6s 2ms/step - loss: 0.6493 - accuracy: 0.6160 - val_loss: 0.6809 - val_accuracy: 0.5829\n",
            "Epoch 49/100\n",
            "2551/2551 [==============================] - 6s 3ms/step - loss: 0.6500 - accuracy: 0.6138 - val_loss: 0.6752 - val_accuracy: 0.5842\n",
            "Epoch 50/100\n",
            "2551/2551 [==============================] - 7s 3ms/step - loss: 0.6489 - accuracy: 0.6158 - val_loss: 0.7014 - val_accuracy: 0.5827\n",
            "Epoch 51/100\n",
            "2551/2551 [==============================] - 6s 2ms/step - loss: 0.6494 - accuracy: 0.6167 - val_loss: 0.6849 - val_accuracy: 0.5841\n",
            "Epoch 52/100\n",
            "2551/2551 [==============================] - 7s 3ms/step - loss: 0.6494 - accuracy: 0.6154 - val_loss: 0.6879 - val_accuracy: 0.5856\n",
            "Epoch 53/100\n",
            "2551/2551 [==============================] - 7s 3ms/step - loss: 0.6522 - accuracy: 0.6126 - val_loss: 0.6813 - val_accuracy: 0.5872\n",
            "Epoch 54/100\n",
            "2551/2551 [==============================] - 6s 2ms/step - loss: 0.6489 - accuracy: 0.6154 - val_loss: 0.6947 - val_accuracy: 0.5872\n",
            "Epoch 55/100\n",
            "2551/2551 [==============================] - 7s 3ms/step - loss: 0.6491 - accuracy: 0.6175 - val_loss: 0.6888 - val_accuracy: 0.5873\n",
            "Epoch 56/100\n",
            "2551/2551 [==============================] - 7s 3ms/step - loss: 0.6486 - accuracy: 0.6163 - val_loss: 0.6898 - val_accuracy: 0.5865\n",
            "Epoch 57/100\n",
            "2551/2551 [==============================] - 7s 3ms/step - loss: 0.6491 - accuracy: 0.6155 - val_loss: 0.6826 - val_accuracy: 0.5827\n",
            "Epoch 58/100\n",
            "2551/2551 [==============================] - 7s 3ms/step - loss: 0.6499 - accuracy: 0.6173 - val_loss: 0.6756 - val_accuracy: 0.5836\n",
            "Epoch 59/100\n",
            "2551/2551 [==============================] - 7s 3ms/step - loss: 0.6484 - accuracy: 0.6156 - val_loss: 0.6927 - val_accuracy: 0.5903\n",
            "Epoch 60/100\n",
            "2551/2551 [==============================] - 7s 3ms/step - loss: 0.6487 - accuracy: 0.6165 - val_loss: 0.6896 - val_accuracy: 0.5848\n",
            "Epoch 61/100\n",
            "2551/2551 [==============================] - 7s 3ms/step - loss: 0.6478 - accuracy: 0.6163 - val_loss: 0.6878 - val_accuracy: 0.5845\n",
            "Epoch 62/100\n",
            "2551/2551 [==============================] - 7s 3ms/step - loss: 0.6499 - accuracy: 0.6175 - val_loss: 0.6919 - val_accuracy: 0.5828\n",
            "Epoch 63/100\n",
            "2551/2551 [==============================] - 7s 3ms/step - loss: 0.6494 - accuracy: 0.6176 - val_loss: 0.7013 - val_accuracy: 0.5872\n",
            "Epoch 64/100\n",
            "2551/2551 [==============================] - 7s 3ms/step - loss: 0.6483 - accuracy: 0.6187 - val_loss: 0.6911 - val_accuracy: 0.5829\n",
            "Epoch 65/100\n",
            "2551/2551 [==============================] - 6s 3ms/step - loss: 0.6479 - accuracy: 0.6177 - val_loss: 0.6943 - val_accuracy: 0.5821\n",
            "Epoch 66/100\n",
            "2551/2551 [==============================] - 7s 3ms/step - loss: 0.6486 - accuracy: 0.6169 - val_loss: 0.6970 - val_accuracy: 0.5843\n",
            "Epoch 67/100\n",
            "2551/2551 [==============================] - 7s 3ms/step - loss: 0.6492 - accuracy: 0.6161 - val_loss: 0.6863 - val_accuracy: 0.5848\n",
            "Epoch 68/100\n",
            "2551/2551 [==============================] - 7s 3ms/step - loss: 0.6473 - accuracy: 0.6192 - val_loss: 0.6924 - val_accuracy: 0.5873\n",
            "Epoch 69/100\n",
            "2551/2551 [==============================] - 7s 3ms/step - loss: 0.6471 - accuracy: 0.6173 - val_loss: 0.6994 - val_accuracy: 0.5791\n",
            "Epoch 70/100\n",
            "2551/2551 [==============================] - 7s 3ms/step - loss: 0.6501 - accuracy: 0.6181 - val_loss: 0.6927 - val_accuracy: 0.5853\n",
            "Epoch 71/100\n",
            "2551/2551 [==============================] - 7s 3ms/step - loss: 0.6484 - accuracy: 0.6202 - val_loss: 0.6907 - val_accuracy: 0.5858\n",
            "Epoch 72/100\n",
            "2551/2551 [==============================] - 6s 3ms/step - loss: 0.6473 - accuracy: 0.6186 - val_loss: 0.6809 - val_accuracy: 0.5865\n",
            "Epoch 73/100\n",
            "2551/2551 [==============================] - 7s 3ms/step - loss: 0.6471 - accuracy: 0.6194 - val_loss: 0.6980 - val_accuracy: 0.5830\n",
            "Epoch 74/100\n",
            "2551/2551 [==============================] - 6s 2ms/step - loss: 0.6478 - accuracy: 0.6190 - val_loss: 0.6969 - val_accuracy: 0.5882\n",
            "Epoch 75/100\n",
            "2551/2551 [==============================] - 6s 2ms/step - loss: 0.6474 - accuracy: 0.6195 - val_loss: 0.6871 - val_accuracy: 0.5841\n",
            "Epoch 76/100\n",
            "2551/2551 [==============================] - 6s 3ms/step - loss: 0.6475 - accuracy: 0.6202 - val_loss: 0.7008 - val_accuracy: 0.5819\n",
            "Epoch 77/100\n",
            "2551/2551 [==============================] - 7s 3ms/step - loss: 0.6483 - accuracy: 0.6199 - val_loss: 0.6914 - val_accuracy: 0.5837\n",
            "Epoch 78/100\n",
            "2551/2551 [==============================] - 6s 2ms/step - loss: 0.6512 - accuracy: 0.6201 - val_loss: 0.6906 - val_accuracy: 0.5836\n",
            "Epoch 79/100\n",
            "2551/2551 [==============================] - 6s 3ms/step - loss: 0.6499 - accuracy: 0.6180 - val_loss: 0.6907 - val_accuracy: 0.5850\n",
            "Epoch 80/100\n",
            "2551/2551 [==============================] - 6s 2ms/step - loss: 0.6464 - accuracy: 0.6200 - val_loss: 0.6998 - val_accuracy: 0.5798\n",
            "Epoch 81/100\n",
            "2551/2551 [==============================] - 6s 2ms/step - loss: 0.6469 - accuracy: 0.6195 - val_loss: 0.7049 - val_accuracy: 0.5828\n",
            "Epoch 82/100\n",
            "2551/2551 [==============================] - 6s 2ms/step - loss: 0.6476 - accuracy: 0.6197 - val_loss: 0.6924 - val_accuracy: 0.5825\n",
            "Epoch 83/100\n",
            "2551/2551 [==============================] - 7s 3ms/step - loss: 0.6475 - accuracy: 0.6187 - val_loss: 0.7043 - val_accuracy: 0.5813\n",
            "Epoch 84/100\n",
            "2551/2551 [==============================] - 7s 3ms/step - loss: 0.6485 - accuracy: 0.6206 - val_loss: 0.6978 - val_accuracy: 0.5814\n",
            "Epoch 85/100\n",
            "2551/2551 [==============================] - 7s 3ms/step - loss: 0.6489 - accuracy: 0.6204 - val_loss: 0.6915 - val_accuracy: 0.5817\n",
            "Epoch 86/100\n",
            "2551/2551 [==============================] - 6s 2ms/step - loss: 0.6473 - accuracy: 0.6204 - val_loss: 0.6943 - val_accuracy: 0.5860\n",
            "Epoch 87/100\n",
            "2551/2551 [==============================] - 7s 3ms/step - loss: 0.6479 - accuracy: 0.6188 - val_loss: 0.6929 - val_accuracy: 0.5856\n",
            "Epoch 88/100\n",
            "2551/2551 [==============================] - 7s 3ms/step - loss: 0.6482 - accuracy: 0.6197 - val_loss: 0.6993 - val_accuracy: 0.5890\n",
            "Epoch 89/100\n",
            "2551/2551 [==============================] - 7s 3ms/step - loss: 0.6473 - accuracy: 0.6205 - val_loss: 0.6882 - val_accuracy: 0.5795\n",
            "Epoch 90/100\n",
            "2551/2551 [==============================] - 6s 3ms/step - loss: 0.6466 - accuracy: 0.6195 - val_loss: 0.7081 - val_accuracy: 0.5874\n",
            "Epoch 91/100\n",
            "2551/2551 [==============================] - 6s 2ms/step - loss: 0.6481 - accuracy: 0.6201 - val_loss: 0.7014 - val_accuracy: 0.5828\n",
            "Epoch 92/100\n",
            "2551/2551 [==============================] - 6s 2ms/step - loss: 0.6491 - accuracy: 0.6187 - val_loss: 0.6900 - val_accuracy: 0.5875\n",
            "Epoch 93/100\n",
            "2551/2551 [==============================] - 6s 2ms/step - loss: 0.6469 - accuracy: 0.6200 - val_loss: 0.6991 - val_accuracy: 0.5820\n",
            "Epoch 94/100\n",
            "2551/2551 [==============================] - 7s 3ms/step - loss: 0.6473 - accuracy: 0.6205 - val_loss: 0.7137 - val_accuracy: 0.5784\n",
            "Epoch 95/100\n",
            "2551/2551 [==============================] - 7s 3ms/step - loss: 0.6476 - accuracy: 0.6222 - val_loss: 0.6828 - val_accuracy: 0.5836\n",
            "Epoch 96/100\n",
            "2551/2551 [==============================] - 8s 3ms/step - loss: 0.6479 - accuracy: 0.6213 - val_loss: 0.6820 - val_accuracy: 0.5829\n",
            "Epoch 97/100\n",
            "2551/2551 [==============================] - 7s 3ms/step - loss: 0.6468 - accuracy: 0.6204 - val_loss: 0.6908 - val_accuracy: 0.5825\n",
            "Epoch 98/100\n",
            "2551/2551 [==============================] - 7s 3ms/step - loss: 0.6494 - accuracy: 0.6194 - val_loss: 0.7031 - val_accuracy: 0.5873\n",
            "Epoch 99/100\n",
            "2551/2551 [==============================] - 7s 3ms/step - loss: 0.6482 - accuracy: 0.6200 - val_loss: 0.6950 - val_accuracy: 0.5825\n",
            "Epoch 100/100\n",
            "2551/2551 [==============================] - 6s 2ms/step - loss: 0.6465 - accuracy: 0.6221 - val_loss: 0.6935 - val_accuracy: 0.5849\n"
          ]
        }
      ]
    },
    {
      "cell_type": "code",
      "source": [
        "# train best model\n",
        "val_acc_per_epoch = history.history['val_accuracy']\n",
        "best_epoch = val_acc_per_epoch.index(max(val_acc_per_epoch)) + 1\n",
        "print('Best epoch: %d' % (best_epoch,))\n",
        "model = build_model(best_hp)\n",
        "model.fit(x=X_train,\n",
        "          y=y_train,\n",
        "          epochs=best_epoch)"
      ],
      "metadata": {
        "id": "asWtK4dAebuh",
        "colab": {
          "base_uri": "https://localhost:8080/"
        },
        "outputId": "ac0721fa-c812-430f-e851-180ccf5cee83"
      },
      "execution_count": null,
      "outputs": [
        {
          "output_type": "stream",
          "name": "stdout",
          "text": [
            "Best epoch: 47\n",
            "Epoch 1/47\n",
            "2551/2551 [==============================] - 7s 2ms/step - loss: 0.6793 - accuracy: 0.5701\n",
            "Epoch 2/47\n",
            "2551/2551 [==============================] - 6s 2ms/step - loss: 0.6695 - accuracy: 0.5872\n",
            "Epoch 3/47\n",
            "2551/2551 [==============================] - 6s 2ms/step - loss: 0.6665 - accuracy: 0.5950\n",
            "Epoch 4/47\n",
            "2551/2551 [==============================] - 6s 2ms/step - loss: 0.6648 - accuracy: 0.5956\n",
            "Epoch 5/47\n",
            "2551/2551 [==============================] - 6s 2ms/step - loss: 0.6638 - accuracy: 0.5962\n",
            "Epoch 6/47\n",
            "2551/2551 [==============================] - 6s 2ms/step - loss: 0.6633 - accuracy: 0.5990\n",
            "Epoch 7/47\n",
            "2551/2551 [==============================] - 6s 2ms/step - loss: 0.6626 - accuracy: 0.5993\n",
            "Epoch 8/47\n",
            "2551/2551 [==============================] - 6s 2ms/step - loss: 0.6622 - accuracy: 0.6005\n",
            "Epoch 9/47\n",
            "2551/2551 [==============================] - 6s 2ms/step - loss: 0.6611 - accuracy: 0.6017\n",
            "Epoch 10/47\n",
            "2551/2551 [==============================] - 6s 2ms/step - loss: 0.6609 - accuracy: 0.6023\n",
            "Epoch 11/47\n",
            "2551/2551 [==============================] - 5s 2ms/step - loss: 0.6602 - accuracy: 0.6021\n",
            "Epoch 12/47\n",
            "2551/2551 [==============================] - 6s 2ms/step - loss: 0.6596 - accuracy: 0.6030\n",
            "Epoch 13/47\n",
            "2551/2551 [==============================] - 6s 2ms/step - loss: 0.6596 - accuracy: 0.6048\n",
            "Epoch 14/47\n",
            "2551/2551 [==============================] - 6s 2ms/step - loss: 0.6595 - accuracy: 0.6032\n",
            "Epoch 15/47\n",
            "2551/2551 [==============================] - 6s 2ms/step - loss: 0.6587 - accuracy: 0.6045\n",
            "Epoch 16/47\n",
            "2551/2551 [==============================] - 6s 2ms/step - loss: 0.6589 - accuracy: 0.6058\n",
            "Epoch 17/47\n",
            "2551/2551 [==============================] - 6s 2ms/step - loss: 0.6581 - accuracy: 0.6059\n",
            "Epoch 18/47\n",
            "2551/2551 [==============================] - 6s 2ms/step - loss: 0.6576 - accuracy: 0.6073\n",
            "Epoch 19/47\n",
            "2551/2551 [==============================] - 6s 2ms/step - loss: 0.6571 - accuracy: 0.6085\n",
            "Epoch 20/47\n",
            "2551/2551 [==============================] - 6s 2ms/step - loss: 0.6570 - accuracy: 0.6079\n",
            "Epoch 21/47\n",
            "2551/2551 [==============================] - 6s 2ms/step - loss: 0.6570 - accuracy: 0.6095\n",
            "Epoch 22/47\n",
            "2551/2551 [==============================] - 6s 2ms/step - loss: 0.6562 - accuracy: 0.6082\n",
            "Epoch 23/47\n",
            "2551/2551 [==============================] - 6s 2ms/step - loss: 0.6562 - accuracy: 0.6081\n",
            "Epoch 24/47\n",
            "2551/2551 [==============================] - 5s 2ms/step - loss: 0.6556 - accuracy: 0.6089\n",
            "Epoch 25/47\n",
            "2551/2551 [==============================] - 6s 2ms/step - loss: 0.6554 - accuracy: 0.6080\n",
            "Epoch 26/47\n",
            "2551/2551 [==============================] - 5s 2ms/step - loss: 0.6548 - accuracy: 0.6105\n",
            "Epoch 27/47\n",
            "2551/2551 [==============================] - 5s 2ms/step - loss: 0.6550 - accuracy: 0.6114\n",
            "Epoch 28/47\n",
            "2551/2551 [==============================] - 5s 2ms/step - loss: 0.6547 - accuracy: 0.6092\n",
            "Epoch 29/47\n",
            "2551/2551 [==============================] - 6s 2ms/step - loss: 0.6543 - accuracy: 0.6096\n",
            "Epoch 30/47\n",
            "2551/2551 [==============================] - 6s 2ms/step - loss: 0.6541 - accuracy: 0.6111\n",
            "Epoch 31/47\n",
            "2551/2551 [==============================] - 6s 2ms/step - loss: 0.6542 - accuracy: 0.6110\n",
            "Epoch 32/47\n",
            "2551/2551 [==============================] - 6s 2ms/step - loss: 0.6536 - accuracy: 0.6113\n",
            "Epoch 33/47\n",
            "2551/2551 [==============================] - 6s 2ms/step - loss: 0.6534 - accuracy: 0.6115\n",
            "Epoch 34/47\n",
            "2551/2551 [==============================] - 6s 2ms/step - loss: 0.6534 - accuracy: 0.6129\n",
            "Epoch 35/47\n",
            "2551/2551 [==============================] - 7s 3ms/step - loss: 0.6527 - accuracy: 0.6132\n",
            "Epoch 36/47\n",
            "2551/2551 [==============================] - 6s 2ms/step - loss: 0.6522 - accuracy: 0.6130\n",
            "Epoch 37/47\n",
            "2551/2551 [==============================] - 6s 2ms/step - loss: 0.6525 - accuracy: 0.6123\n",
            "Epoch 38/47\n",
            "2551/2551 [==============================] - 6s 2ms/step - loss: 0.6519 - accuracy: 0.6141\n",
            "Epoch 39/47\n",
            "2551/2551 [==============================] - 6s 2ms/step - loss: 0.6525 - accuracy: 0.6136\n",
            "Epoch 40/47\n",
            "2551/2551 [==============================] - 6s 2ms/step - loss: 0.6527 - accuracy: 0.6130\n",
            "Epoch 41/47\n",
            "2551/2551 [==============================] - 5s 2ms/step - loss: 0.6518 - accuracy: 0.6145\n",
            "Epoch 42/47\n",
            "2551/2551 [==============================] - 6s 2ms/step - loss: 0.6514 - accuracy: 0.6143\n",
            "Epoch 43/47\n",
            "2551/2551 [==============================] - 6s 2ms/step - loss: 0.6527 - accuracy: 0.6143\n",
            "Epoch 44/47\n",
            "2551/2551 [==============================] - 6s 2ms/step - loss: 0.6506 - accuracy: 0.6156\n",
            "Epoch 45/47\n",
            "2551/2551 [==============================] - 6s 2ms/step - loss: 0.6510 - accuracy: 0.6141\n",
            "Epoch 46/47\n",
            "2551/2551 [==============================] - 6s 2ms/step - loss: 0.6507 - accuracy: 0.6155\n",
            "Epoch 47/47\n",
            "2551/2551 [==============================] - 6s 2ms/step - loss: 0.6506 - accuracy: 0.6171\n"
          ]
        },
        {
          "output_type": "execute_result",
          "data": {
            "text/plain": [
              "<keras.callbacks.History at 0x7f88f87b2ed0>"
            ]
          },
          "metadata": {},
          "execution_count": 65
        }
      ]
    },
    {
      "cell_type": "code",
      "source": [
        "#plot_model(model, to_file='model_plot.png', show_shapes=True, show_layer_names=True)\n",
        "plot_model(model, show_shapes=True, show_layer_names=True)"
      ],
      "metadata": {
        "id": "R23so7VcgAvb",
        "colab": {
          "base_uri": "https://localhost:8080/",
          "height": 533
        },
        "outputId": "564424a1-1dd5-4b5d-91ee-3c40a5ee6988"
      },
      "execution_count": null,
      "outputs": [
        {
          "output_type": "execute_result",
          "data": {
            "text/plain": [
              "<IPython.core.display.Image object>"
            ],
            "image/png": "[encoded data removed]"
          },
          "metadata": {},
          "execution_count": 66
        }
      ]
    },
    {
      "cell_type": "code",
      "source": [
        "# plot loss history function\n",
        "def loss_plot(loss, val_loss):\n",
        "  #plt.figure(figsize=(13,7))\n",
        "  plt.plot(loss)\n",
        "  plt.plot(val_loss)\n",
        "  plt.title('Loss evaluation')\n",
        "  plt.legend(['Train','Validation'])\n",
        "  plt.xlabel('Epochs')\n",
        "  plt.ylabel('Loss')\n",
        "#  plt.show()\n",
        "\n",
        "# loss history\n",
        "loss_plot(history.history['loss'],\n",
        "        history.history['val_loss'])\n",
        "\n",
        "#plt.savefig(\"RNN residual loss eval.png\")"
      ],
      "metadata": {
        "id": "uux9yItyOR-S",
        "colab": {
          "base_uri": "https://localhost:8080/",
          "height": 295
        },
        "outputId": "58f1b249-a2cd-4cc2-89bf-82fcb22ae8e8"
      },
      "execution_count": null,
      "outputs": [
        {
          "output_type": "display_data",
          "data": {
            "text/plain": [
              "<Figure size 432x288 with 1 Axes>"
            ],
            "image/png": "[encoded data removed]"
          },
          "metadata": {
            "needs_background": "light"
          }
        }
      ]
    },
    {
      "cell_type": "code",
      "source": [
        "# plot loss history function\n",
        "def loss_plot(accuracy):\n",
        "  #plt.figure(figsize=(13,7))\n",
        "  plt.plot(accuracy)\n",
        "\n",
        "\n",
        "  plt.title('Validation accuracy')\n",
        "  plt.xlabel('Epochs')\n",
        "  plt.ylabel('Accuracy')\n",
        "#  plt.show()\n",
        "\n",
        "# loss history\n",
        "loss_plot(history.history['val_accuracy'])\n"
      ],
      "metadata": {
        "id": "AuREtzBS6S6o",
        "colab": {
          "base_uri": "https://localhost:8080/",
          "height": 295
        },
        "outputId": "25a5ce49-9417-4ffe-a467-40ada3f2f038"
      },
      "execution_count": null,
      "outputs": [
        {
          "output_type": "display_data",
          "data": {
            "text/plain": [
              "<Figure size 432x288 with 1 Axes>"
            ],
            "image/png": "[encoded data removed]"
          },
          "metadata": {
            "needs_background": "light"
          }
        }
      ]
    },
    {
      "cell_type": "code",
      "source": [
        "# RMSE score\n",
        "def predict_and_score(model, X, Y):\n",
        "    pred = model.predict(X)\n",
        "    orig_data = [Y]\n",
        "    score = math.sqrt(mean_squared_error(orig_data[0], pred[:, 0]))\n",
        "    return(score, pred)\n",
        "\n",
        "rmse_train, train_predict = predict_and_score(model, X_train, y_train)\n",
        "rmse_test, test_predict = predict_and_score(model, X_test, y_test)\n",
        "\n",
        "print(\"Training data score: %.2f RMSE\" % rmse_train)\n",
        "print(\"Test data score: %.2f RMSE\" % rmse_test)"
      ],
      "metadata": {
        "id": "0sTsJXESOUt5",
        "colab": {
          "base_uri": "https://localhost:8080/"
        },
        "outputId": "5d756ebd-d37a-4c13-894c-57bbb9593c8a"
      },
      "execution_count": null,
      "outputs": [
        {
          "output_type": "stream",
          "name": "stdout",
          "text": [
            "Training data score: 0.48 RMSE\n",
            "Test data score: 0.49 RMSE\n"
          ]
        }
      ]
    },
    {
      "cell_type": "code",
      "source": [
        "model.evaluate(X_train, y_train)"
      ],
      "metadata": {
        "id": "REYalGdKLl0c",
        "colab": {
          "base_uri": "https://localhost:8080/"
        },
        "outputId": "67f479b1-fd4c-458e-957b-5c3ce733be9a"
      },
      "execution_count": null,
      "outputs": [
        {
          "output_type": "stream",
          "name": "stdout",
          "text": [
            "2551/2551 [==============================] - 4s 2ms/step - loss: 0.6680 - accuracy: 0.5879\n"
          ]
        },
        {
          "output_type": "execute_result",
          "data": {
            "text/plain": [
              "[0.6679772734642029, 0.58790522813797]"
            ]
          },
          "metadata": {},
          "execution_count": 30
        }
      ]
    },
    {
      "cell_type": "code",
      "source": [
        "model.evaluate(X_test, y_test)"
      ],
      "metadata": {
        "id": "VbntC-8uPEPz",
        "colab": {
          "base_uri": "https://localhost:8080/"
        },
        "outputId": "048ccff4-73ea-4f36-c7a4-17f3fc04bd95"
      },
      "execution_count": null,
      "outputs": [
        {
          "output_type": "stream",
          "name": "stdout",
          "text": [
            "284/284 [==============================] - 0s 2ms/step - loss: 0.6738 - accuracy: 0.5783\n"
          ]
        },
        {
          "output_type": "execute_result",
          "data": {
            "text/plain": [
              "[0.673806369304657, 0.5782800316810608]"
            ]
          },
          "metadata": {},
          "execution_count": 31
        }
      ]
    },
    {
      "cell_type": "markdown",
      "source": [
        "cross validation"
      ],
      "metadata": {
        "id": "gaXLGBnA_dRE"
      }
    },
    {
      "cell_type": "markdown",
      "source": [
        "prediction"
      ],
      "metadata": {
        "id": "o_lgjKQX_etz"
      }
    },
    {
      "cell_type": "code",
      "source": [
        "from sklearn.metrics import accuracy_score, f1_score, precision_score, recall_score, confusion_matrix, classification_report, roc_auc_score, plot_roc_curve"
      ],
      "metadata": {
        "id": "iKHnML1VB2zA"
      },
      "execution_count": null,
      "outputs": []
    },
    {
      "cell_type": "code",
      "source": [
        "# prediction\n",
        "y_pred_test = (model.predict(X_test)>0.5).astype(\"int32\")"
      ],
      "metadata": {
        "id": "qND2S1Gh8grw"
      },
      "execution_count": null,
      "outputs": []
    },
    {
      "cell_type": "code",
      "source": [
        "accuracy_score(y_test, y_pred_test)"
      ],
      "metadata": {
        "colab": {
          "base_uri": "https://localhost:8080/"
        },
        "id": "o8PRC9ltBs-Q",
        "outputId": "3ea8ed2b-b751-4478-8095-3ad80d02aa1b"
      },
      "execution_count": null,
      "outputs": [
        {
          "output_type": "execute_result",
          "data": {
            "text/plain": [
              "0.5868798235942668"
            ]
          },
          "metadata": {},
          "execution_count": 99
        }
      ]
    },
    {
      "cell_type": "code",
      "source": [
        "# confusion matrix\n",
        "confusion_matrix(y_test,y_pred_test)"
      ],
      "metadata": {
        "colab": {
          "base_uri": "https://localhost:8080/"
        },
        "id": "gZaBQZQvBwWI",
        "outputId": "baf6f039-2157-4115-e0ed-5bca7c53975c"
      },
      "execution_count": null,
      "outputs": [
        {
          "output_type": "execute_result",
          "data": {
            "text/plain": [
              "array([[2496, 2149],\n",
              "       [1598, 2827]])"
            ]
          },
          "metadata": {},
          "execution_count": 100
        }
      ]
    },
    {
      "cell_type": "code",
      "source": [
        "# confusion matrix\n",
        "print(classification_report(y_test, y_pred_test))"
      ],
      "metadata": {
        "colab": {
          "base_uri": "https://localhost:8080/"
        },
        "id": "iGvDVLk2ByMv",
        "outputId": "7fb890ca-e479-457f-ef12-5def24ae63e5"
      },
      "execution_count": null,
      "outputs": [
        {
          "output_type": "stream",
          "name": "stdout",
          "text": [
            "              precision    recall  f1-score   support\n",
            "\n",
            "           0       0.61      0.54      0.57      4645\n",
            "           1       0.57      0.64      0.60      4425\n",
            "\n",
            "    accuracy                           0.59      9070\n",
            "   macro avg       0.59      0.59      0.59      9070\n",
            "weighted avg       0.59      0.59      0.59      9070\n",
            "\n"
          ]
        }
      ]
    },
    {
      "cell_type": "code",
      "source": [
        "# ROC AUC\n",
        "mlp_probs = model.predict(X_test)\n",
        "roc_value = roc_auc_score(y_test, mlp_probs)\n",
        "roc_value"
      ],
      "metadata": {
        "colab": {
          "base_uri": "https://localhost:8080/"
        },
        "id": "YVtZ6hv6B-0_",
        "outputId": "333d90a4-423f-4b22-f54a-c578b58fc65a"
      },
      "execution_count": null,
      "outputs": [
        {
          "output_type": "execute_result",
          "data": {
            "text/plain": [
              "0.6199014309779668"
            ]
          },
          "metadata": {},
          "execution_count": 104
        }
      ]
    },
    {
      "cell_type": "code",
      "source": [
        "!pip install scikit-plot"
      ],
      "metadata": {
        "colab": {
          "base_uri": "https://localhost:8080/"
        },
        "id": "axgYqAkvlBCp",
        "outputId": "0bd46921-d3bf-4a36-b04f-a1760b441694"
      },
      "execution_count": null,
      "outputs": [
        {
          "output_type": "stream",
          "name": "stdout",
          "text": [
            "Collecting scikit-plot\n",
            "  Downloading scikit_plot-0.3.7-py3-none-any.whl (33 kB)\n",
            "Requirement already satisfied: scikit-learn>=0.18 in /usr/local/lib/python3.7/dist-packages (from scikit-plot) (1.0.2)\n",
            "Requirement already satisfied: matplotlib>=1.4.0 in /usr/local/lib/python3.7/dist-packages (from scikit-plot) (3.2.2)\n",
            "Requirement already satisfied: joblib>=0.10 in /usr/local/lib/python3.7/dist-packages (from scikit-plot) (1.1.0)\n",
            "Requirement already satisfied: scipy>=0.9 in /usr/local/lib/python3.7/dist-packages (from scikit-plot) (1.4.1)\n",
            "Requirement already satisfied: python-dateutil>=2.1 in /usr/local/lib/python3.7/dist-packages (from matplotlib>=1.4.0->scikit-plot) (2.8.2)\n",
            "Requirement already satisfied: pyparsing!=2.0.4,!=2.1.2,!=2.1.6,>=2.0.1 in /usr/local/lib/python3.7/dist-packages (from matplotlib>=1.4.0->scikit-plot) (3.0.8)\n",
            "Requirement already satisfied: cycler>=0.10 in /usr/local/lib/python3.7/dist-packages (from matplotlib>=1.4.0->scikit-plot) (0.11.0)\n",
            "Requirement already satisfied: kiwisolver>=1.0.1 in /usr/local/lib/python3.7/dist-packages (from matplotlib>=1.4.0->scikit-plot) (1.4.2)\n",
            "Requirement already satisfied: numpy>=1.11 in /usr/local/lib/python3.7/dist-packages (from matplotlib>=1.4.0->scikit-plot) (1.21.6)\n",
            "Requirement already satisfied: typing-extensions in /usr/local/lib/python3.7/dist-packages (from kiwisolver>=1.0.1->matplotlib>=1.4.0->scikit-plot) (4.2.0)\n",
            "Requirement already satisfied: six>=1.5 in /usr/local/lib/python3.7/dist-packages (from python-dateutil>=2.1->matplotlib>=1.4.0->scikit-plot) (1.15.0)\n",
            "Requirement already satisfied: threadpoolctl>=2.0.0 in /usr/local/lib/python3.7/dist-packages (from scikit-learn>=0.18->scikit-plot) (3.1.0)\n",
            "Installing collected packages: scikit-plot\n",
            "Successfully installed scikit-plot-0.3.7\n"
          ]
        }
      ]
    },
    {
      "cell_type": "code",
      "source": [
        "model.predict(X_test)[:,:]"
      ],
      "metadata": {
        "colab": {
          "base_uri": "https://localhost:8080/"
        },
        "id": "Bt6dY979lM9p",
        "outputId": "2540569a-75ea-4339-8d2e-afc0d7d1ad5b"
      },
      "execution_count": null,
      "outputs": [
        {
          "output_type": "execute_result",
          "data": {
            "text/plain": [
              "array([[0.5588038 ],\n",
              "       [0.4681688 ],\n",
              "       [0.26505977],\n",
              "       ...,\n",
              "       [0.45254207],\n",
              "       [0.24178052],\n",
              "       [0.5873008 ]], dtype=float32)"
            ]
          },
          "metadata": {},
          "execution_count": 113
        }
      ]
    },
    {
      "cell_type": "code",
      "source": [
        "proba=model.predict([X_test])"
      ],
      "metadata": {
        "id": "JuDA779wlu2J"
      },
      "execution_count": null,
      "outputs": []
    },
    {
      "cell_type": "code",
      "source": [
        "probs = pd.DataFrame(model.predict(X_test))\n",
        "probs[0]"
      ],
      "metadata": {
        "colab": {
          "base_uri": "https://localhost:8080/"
        },
        "id": "uKHnlMb8mf9n",
        "outputId": "c8398bbf-40e6-4f7e-d72e-baa220a15e08"
      },
      "execution_count": null,
      "outputs": [
        {
          "output_type": "execute_result",
          "data": {
            "text/plain": [
              "0       0.558804\n",
              "1       0.468169\n",
              "2       0.265060\n",
              "3       0.333523\n",
              "4       0.520649\n",
              "          ...   \n",
              "9065    0.432756\n",
              "9066    0.667046\n",
              "9067    0.452542\n",
              "9068    0.241781\n",
              "9069    0.587301\n",
              "Name: 0, Length: 9070, dtype: float32"
            ]
          },
          "metadata": {},
          "execution_count": 138
        }
      ]
    },
    {
      "cell_type": "code",
      "source": [
        "y_test"
      ],
      "metadata": {
        "colab": {
          "base_uri": "https://localhost:8080/"
        },
        "id": "uoDXqrP7nSuW",
        "outputId": "8d7ec48d-fd99-428a-8052-5266f9aff5c9"
      },
      "execution_count": null,
      "outputs": [
        {
          "output_type": "execute_result",
          "data": {
            "text/plain": [
              "64977    1\n",
              "71455    1\n",
              "51349    1\n",
              "16837    0\n",
              "28319    1\n",
              "        ..\n",
              "12939    0\n",
              "75794    0\n",
              "37681    0\n",
              "12964    0\n",
              "57848    0\n",
              "Name: churn, Length: 9070, dtype: int64"
            ]
          },
          "metadata": {},
          "execution_count": 141
        }
      ]
    },
    {
      "cell_type": "code",
      "source": [
        "skplt.metrics.plot_precision_recall_curve(y_test, probs)\n",
        "plt.show()"
      ],
      "metadata": {
        "id": "MvofGZLaCL7g"
      },
      "execution_count": null,
      "outputs": []
    },
    {
      "cell_type": "code",
      "source": [
        ""
      ],
      "metadata": {
        "id": "lPs9W2mbCOC_"
      },
      "execution_count": null,
      "outputs": []
    }
  ]
}
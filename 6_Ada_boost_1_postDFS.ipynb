{
  "nbformat": 4,
  "nbformat_minor": 0,
  "metadata": {
    "colab": {
      "name": "Ada_boost_1_postDFS.ipynb",
      "provenance": [],
      "collapsed_sections": []
    },
    "kernelspec": {
      "name": "python3",
      "display_name": "Python 3"
    },
    "language_info": {
      "name": "python"
    }
  },
  "cells": [
    {
      "cell_type": "code",
      "source": [
        "!pip install scikit-plot"
      ],
      "metadata": {
        "colab": {
          "base_uri": "https://localhost:8080/"
        },
        "id": "4KMUkQ7Y-4QL",
        "outputId": "21301880-9a0c-42bd-9e47-3e900a222b4a"
      },
      "execution_count": null,
      "outputs": [
        {
          "output_type": "stream",
          "name": "stdout",
          "text": [
            "Collecting scikit-plot\n",
            "  Downloading scikit_plot-0.3.7-py3-none-any.whl (33 kB)\n",
            "Requirement already satisfied: matplotlib>=1.4.0 in /usr/local/lib/python3.7/dist-packages (from scikit-plot) (3.2.2)\n",
            "Requirement already satisfied: joblib>=0.10 in /usr/local/lib/python3.7/dist-packages (from scikit-plot) (1.1.0)\n",
            "Requirement already satisfied: scikit-learn>=0.18 in /usr/local/lib/python3.7/dist-packages (from scikit-plot) (1.0.2)\n",
            "Requirement already satisfied: scipy>=0.9 in /usr/local/lib/python3.7/dist-packages (from scikit-plot) (1.4.1)\n",
            "Requirement already satisfied: python-dateutil>=2.1 in /usr/local/lib/python3.7/dist-packages (from matplotlib>=1.4.0->scikit-plot) (2.8.2)\n",
            "Requirement already satisfied: kiwisolver>=1.0.1 in /usr/local/lib/python3.7/dist-packages (from matplotlib>=1.4.0->scikit-plot) (1.4.2)\n",
            "Requirement already satisfied: cycler>=0.10 in /usr/local/lib/python3.7/dist-packages (from matplotlib>=1.4.0->scikit-plot) (0.11.0)\n",
            "Requirement already satisfied: numpy>=1.11 in /usr/local/lib/python3.7/dist-packages (from matplotlib>=1.4.0->scikit-plot) (1.21.6)\n",
            "Requirement already satisfied: pyparsing!=2.0.4,!=2.1.2,!=2.1.6,>=2.0.1 in /usr/local/lib/python3.7/dist-packages (from matplotlib>=1.4.0->scikit-plot) (3.0.8)\n",
            "Requirement already satisfied: typing-extensions in /usr/local/lib/python3.7/dist-packages (from kiwisolver>=1.0.1->matplotlib>=1.4.0->scikit-plot) (4.2.0)\n",
            "Requirement already satisfied: six>=1.5 in /usr/local/lib/python3.7/dist-packages (from python-dateutil>=2.1->matplotlib>=1.4.0->scikit-plot) (1.15.0)\n",
            "Requirement already satisfied: threadpoolctl>=2.0.0 in /usr/local/lib/python3.7/dist-packages (from scikit-learn>=0.18->scikit-plot) (3.1.0)\n",
            "Installing collected packages: scikit-plot\n",
            "Successfully installed scikit-plot-0.3.7\n"
          ]
        }
      ]
    },
    {
      "cell_type": "code",
      "execution_count": null,
      "metadata": {
        "id": "-aD8wPCRQlSa",
        "colab": {
          "base_uri": "https://localhost:8080/"
        },
        "outputId": "f38567d5-8c08-42b1-aa73-53869f64260b"
      },
      "outputs": [
        {
          "output_type": "stream",
          "name": "stdout",
          "text": [
            "Mounted at /content/drive\n"
          ]
        }
      ],
      "source": [
        "import pandas as pd\n",
        "import numpy as np\n",
        "from google.colab import drive\n",
        "drive.mount('/content/drive')\n",
        "\n",
        "import seaborn as sns\n",
        "import matplotlib.pyplot as plt\n",
        "from matplotlib.pyplot import rcParams\n",
        "import os\n",
        "from sklearn.model_selection import train_test_split\n",
        "from sklearn.model_selection import GridSearchCV, cross_val_score\n",
        "from sklearn.ensemble import RandomForestClassifier, AdaBoostClassifier\n",
        "from sklearn.metrics import accuracy_score, f1_score, precision_score, recall_score, confusion_matrix, classification_report, roc_auc_score, plot_roc_curve"
      ]
    },
    {
      "cell_type": "code",
      "source": [
        "# main data\n",
        "df = pd.read_csv('/content/drive/My Drive/thesis data/churn-data_11_DFS_trans_only_pearsons-selected.csv')\n",
        "data = df.drop(df.columns[0:2,], axis=1)\n",
        "print(data.shape)"
      ],
      "metadata": {
        "colab": {
          "base_uri": "https://localhost:8080/"
        },
        "id": "0DmMXf_gyeei",
        "outputId": "f4a506bf-f726-4433-d8f8-35e68843e486"
      },
      "execution_count": null,
      "outputs": [
        {
          "output_type": "stream",
          "name": "stdout",
          "text": [
            "(90692, 380)\n"
          ]
        }
      ]
    },
    {
      "cell_type": "code",
      "source": [
        "df.head(3)"
      ],
      "metadata": {
        "colab": {
          "base_uri": "https://localhost:8080/",
          "height": 272
        },
        "id": "FLmJZWKa71Jd",
        "outputId": "f2b300bc-c8eb-4e96-88e5-dff49fe0b53d"
      },
      "execution_count": null,
      "outputs": [
        {
          "output_type": "execute_result",
          "data": {
            "text/plain": [
              "   Unnamed: 0  Customer_ID  user_months  phones_used  handset_price  \\\n",
              "0           0      1096894     0.114754     0.071429           0.24   \n",
              "1           1      1082855     0.147541     0.178571           0.16   \n",
              "2           2      1026564     0.426230     0.107143           0.16   \n",
              "\n",
              "   handset_age  cred_score  cred_score + phones_used  COSINE(handset_age)  \\\n",
              "0     0.002194         0.0                  0.071429            -0.653644   \n",
              "1     0.000000         0.0                  0.178571             1.000000   \n",
              "2     0.000000         0.0                  0.107143             1.000000   \n",
              "\n",
              "   COSINE(handset_price)  ...  dualband != None_True  \\\n",
              "0               0.834519  ...                    1.0   \n",
              "1              -0.113145  ...                    1.0   \n",
              "2              -0.113145  ...                    1.0   \n",
              "\n",
              "   handset_age != None_True  handset_price != None_True  \\\n",
              "0                       1.0                         1.0   \n",
              "1                       1.0                         1.0   \n",
              "2                       1.0                         1.0   \n",
              "\n",
              "   manual_limit != None_True  new_user != None_True  phones_used != None_True  \\\n",
              "0                        1.0                    1.0                       1.0   \n",
              "1                        1.0                    1.0                       1.0   \n",
              "2                        1.0                    1.0                       1.0   \n",
              "\n",
              "   refurb_or_new != None_True  user_months != None_True  \\\n",
              "0                         1.0                       1.0   \n",
              "1                         1.0                       1.0   \n",
              "2                         1.0                       1.0   \n",
              "\n",
              "   web_capable != None_True  churn  \n",
              "0                       1.0      0  \n",
              "1                       1.0      0  \n",
              "2                       1.0      1  \n",
              "\n",
              "[3 rows x 382 columns]"
            ],
            "text/html": [
              "\n",
              "  <div id=\"df-5acf3276-2f06-459d-8124-01ccbaa1b227\">\n",
              "    <div class=\"colab-df-container\">\n",
              "      <div>\n",
              "<style scoped>\n",
              "    .dataframe tbody tr th:only-of-type {\n",
              "        vertical-align: middle;\n",
              "    }\n",
              "\n",
              "    .dataframe tbody tr th {\n",
              "        vertical-align: top;\n",
              "    }\n",
              "\n",
              "    .dataframe thead th {\n",
              "        text-align: right;\n",
              "    }\n",
              "</style>\n",
              "<table border=\"1\" class=\"dataframe\">\n",
              "  <thead>\n",
              "    <tr style=\"text-align: right;\">\n",
              "      <th></th>\n",
              "      <th>Unnamed: 0</th>\n",
              "      <th>Customer_ID</th>\n",
              "      <th>user_months</th>\n",
              "      <th>phones_used</th>\n",
              "      <th>handset_price</th>\n",
              "      <th>handset_age</th>\n",
              "      <th>cred_score</th>\n",
              "      <th>cred_score + phones_used</th>\n",
              "      <th>COSINE(handset_age)</th>\n",
              "      <th>COSINE(handset_price)</th>\n",
              "      <th>...</th>\n",
              "      <th>dualband != None_True</th>\n",
              "      <th>handset_age != None_True</th>\n",
              "      <th>handset_price != None_True</th>\n",
              "      <th>manual_limit != None_True</th>\n",
              "      <th>new_user != None_True</th>\n",
              "      <th>phones_used != None_True</th>\n",
              "      <th>refurb_or_new != None_True</th>\n",
              "      <th>user_months != None_True</th>\n",
              "      <th>web_capable != None_True</th>\n",
              "      <th>churn</th>\n",
              "    </tr>\n",
              "  </thead>\n",
              "  <tbody>\n",
              "    <tr>\n",
              "      <th>0</th>\n",
              "      <td>0</td>\n",
              "      <td>1096894</td>\n",
              "      <td>0.114754</td>\n",
              "      <td>0.071429</td>\n",
              "      <td>0.24</td>\n",
              "      <td>0.002194</td>\n",
              "      <td>0.0</td>\n",
              "      <td>0.071429</td>\n",
              "      <td>-0.653644</td>\n",
              "      <td>0.834519</td>\n",
              "      <td>...</td>\n",
              "      <td>1.0</td>\n",
              "      <td>1.0</td>\n",
              "      <td>1.0</td>\n",
              "      <td>1.0</td>\n",
              "      <td>1.0</td>\n",
              "      <td>1.0</td>\n",
              "      <td>1.0</td>\n",
              "      <td>1.0</td>\n",
              "      <td>1.0</td>\n",
              "      <td>0</td>\n",
              "    </tr>\n",
              "    <tr>\n",
              "      <th>1</th>\n",
              "      <td>1</td>\n",
              "      <td>1082855</td>\n",
              "      <td>0.147541</td>\n",
              "      <td>0.178571</td>\n",
              "      <td>0.16</td>\n",
              "      <td>0.000000</td>\n",
              "      <td>0.0</td>\n",
              "      <td>0.178571</td>\n",
              "      <td>1.000000</td>\n",
              "      <td>-0.113145</td>\n",
              "      <td>...</td>\n",
              "      <td>1.0</td>\n",
              "      <td>1.0</td>\n",
              "      <td>1.0</td>\n",
              "      <td>1.0</td>\n",
              "      <td>1.0</td>\n",
              "      <td>1.0</td>\n",
              "      <td>1.0</td>\n",
              "      <td>1.0</td>\n",
              "      <td>1.0</td>\n",
              "      <td>0</td>\n",
              "    </tr>\n",
              "    <tr>\n",
              "      <th>2</th>\n",
              "      <td>2</td>\n",
              "      <td>1026564</td>\n",
              "      <td>0.426230</td>\n",
              "      <td>0.107143</td>\n",
              "      <td>0.16</td>\n",
              "      <td>0.000000</td>\n",
              "      <td>0.0</td>\n",
              "      <td>0.107143</td>\n",
              "      <td>1.000000</td>\n",
              "      <td>-0.113145</td>\n",
              "      <td>...</td>\n",
              "      <td>1.0</td>\n",
              "      <td>1.0</td>\n",
              "      <td>1.0</td>\n",
              "      <td>1.0</td>\n",
              "      <td>1.0</td>\n",
              "      <td>1.0</td>\n",
              "      <td>1.0</td>\n",
              "      <td>1.0</td>\n",
              "      <td>1.0</td>\n",
              "      <td>1</td>\n",
              "    </tr>\n",
              "  </tbody>\n",
              "</table>\n",
              "<p>3 rows × 382 columns</p>\n",
              "</div>\n",
              "      <button class=\"colab-df-convert\" onclick=\"convertToInteractive('df-5acf3276-2f06-459d-8124-01ccbaa1b227')\"\n",
              "              title=\"Convert this dataframe to an interactive table.\"\n",
              "              style=\"display:none;\">\n",
              "        \n",
              "  <svg xmlns=\"http://www.w3.org/2000/svg\" height=\"24px\"viewBox=\"0 0 24 24\"\n",
              "       width=\"24px\">\n",
              "    <path d=\"M0 0h24v24H0V0z\" fill=\"none\"/>\n",
              "    <path d=\"M18.56 5.44l.94 2.06.94-2.06 2.06-.94-2.06-.94-.94-2.06-.94 2.06-2.06.94zm-11 1L8.5 8.5l.94-2.06 2.06-.94-2.06-.94L8.5 2.5l-.94 2.06-2.06.94zm10 10l.94 2.06.94-2.06 2.06-.94-2.06-.94-.94-2.06-.94 2.06-2.06.94z\"/><path d=\"M17.41 7.96l-1.37-1.37c-.4-.4-.92-.59-1.43-.59-.52 0-1.04.2-1.43.59L10.3 9.45l-7.72 7.72c-.78.78-.78 2.05 0 2.83L4 21.41c.39.39.9.59 1.41.59.51 0 1.02-.2 1.41-.59l7.78-7.78 2.81-2.81c.8-.78.8-2.07 0-2.86zM5.41 20L4 18.59l7.72-7.72 1.47 1.35L5.41 20z\"/>\n",
              "  </svg>\n",
              "      </button>\n",
              "      \n",
              "  <style>\n",
              "    .colab-df-container {\n",
              "      display:flex;\n",
              "      flex-wrap:wrap;\n",
              "      gap: 12px;\n",
              "    }\n",
              "\n",
              "    .colab-df-convert {\n",
              "      background-color: #E8F0FE;\n",
              "      border: none;\n",
              "      border-radius: 50%;\n",
              "      cursor: pointer;\n",
              "      display: none;\n",
              "      fill: #1967D2;\n",
              "      height: 32px;\n",
              "      padding: 0 0 0 0;\n",
              "      width: 32px;\n",
              "    }\n",
              "\n",
              "    .colab-df-convert:hover {\n",
              "      background-color: #E2EBFA;\n",
              "      box-shadow: 0px 1px 2px rgba(60, 64, 67, 0.3), 0px 1px 3px 1px rgba(60, 64, 67, 0.15);\n",
              "      fill: #174EA6;\n",
              "    }\n",
              "\n",
              "    [theme=dark] .colab-df-convert {\n",
              "      background-color: #3B4455;\n",
              "      fill: #D2E3FC;\n",
              "    }\n",
              "\n",
              "    [theme=dark] .colab-df-convert:hover {\n",
              "      background-color: #434B5C;\n",
              "      box-shadow: 0px 1px 3px 1px rgba(0, 0, 0, 0.15);\n",
              "      filter: drop-shadow(0px 1px 2px rgba(0, 0, 0, 0.3));\n",
              "      fill: #FFFFFF;\n",
              "    }\n",
              "  </style>\n",
              "\n",
              "      <script>\n",
              "        const buttonEl =\n",
              "          document.querySelector('#df-5acf3276-2f06-459d-8124-01ccbaa1b227 button.colab-df-convert');\n",
              "        buttonEl.style.display =\n",
              "          google.colab.kernel.accessAllowed ? 'block' : 'none';\n",
              "\n",
              "        async function convertToInteractive(key) {\n",
              "          const element = document.querySelector('#df-5acf3276-2f06-459d-8124-01ccbaa1b227');\n",
              "          const dataTable =\n",
              "            await google.colab.kernel.invokeFunction('convertToInteractive',\n",
              "                                                     [key], {});\n",
              "          if (!dataTable) return;\n",
              "\n",
              "          const docLinkHtml = 'Like what you see? Visit the ' +\n",
              "            '<a target=\"_blank\" href=https://colab.research.google.com/notebooks/data_table.ipynb>data table notebook</a>'\n",
              "            + ' to learn more about interactive tables.';\n",
              "          element.innerHTML = '';\n",
              "          dataTable['output_type'] = 'display_data';\n",
              "          await google.colab.output.renderOutput(dataTable, element);\n",
              "          const docLink = document.createElement('div');\n",
              "          docLink.innerHTML = docLinkHtml;\n",
              "          element.appendChild(docLink);\n",
              "        }\n",
              "      </script>\n",
              "    </div>\n",
              "  </div>\n",
              "  "
            ]
          },
          "metadata": {},
          "execution_count": 3
        }
      ]
    },
    {
      "cell_type": "code",
      "source": [
        "# selected columns from backward\n",
        "data = data[['phones_used',\n",
        "'handset_age',\n",
        "'cred_score',\n",
        "'cred_score + phones_used',\n",
        "'COSINE(handset_price)',\n",
        "'COSINE(user_months)',\n",
        "'CUM_MAX(handset_age)',\n",
        "'CUM_MEAN(cred_score)',\n",
        "'CUM_MEAN(handset_price)',\n",
        "'CUM_MEAN(phones_used)',\n",
        "'CUM_SUM(cred_score)',\n",
        "'1 / user_months',\n",
        "'cred_score / phones_used',\n",
        "'cred_score / user_months',\n",
        "'handset_age / handset_price',\n",
        "'handset_price / user_months',\n",
        "'phones_used / user_months',\n",
        "'user_months / handset_price',\n",
        "'cred_score % phones_used',\n",
        "'user_months % handset_price',\n",
        "'cred_score * handset_price',\n",
        "'cred_score * user_months',\n",
        "'handset_age * handset_price',\n",
        "'handset_price * phones_used',\n",
        "'handset_price * user_months',\n",
        "'phones_used * user_months',\n",
        "'SINE(handset_price)',\n",
        "'SINE(user_months)',\n",
        "'TANGENT(handset_price)',\n",
        "'TANGENT(user_months)',\n",
        "'area_ATLANTIC SOUTH AREA',\n",
        "'area_CENTRAL/SOUTH TEXAS AREA',\n",
        "'area_DALLAS AREA',\n",
        "'area_DC/MARYLAND/VIRGINIA AREA',\n",
        "'area_GREAT LAKES AREA',\n",
        "'area_HOUSTON AREA',\n",
        "'area_MIDWEST AREA',\n",
        "'area_NORTHWEST/ROCKY MOUNTAIN AREA',\n",
        "'area_OHIO AREA',\n",
        "'area_TENNESSEE AREA',\n",
        "'dualband_N',\n",
        "'web_capable_UNKOWN',\n",
        "'web_capable_WCMB',\n",
        "'manual_limit_False',\n",
        "'PRIZM_code_C',\n",
        "'PRIZM_code_R',\n",
        "'PRIZM_code_S',\n",
        "'PRIZM_code_U',\n",
        "'credit_card_False',\n",
        "'cred_score = manual_limit_False',\n",
        "'cred_score = phones_used_False',\n",
        "'credit_card = phones_used_False',\n",
        "'phones_used > cred_score_False',\n",
        "'user_months > phones_used_False',\n",
        "'handset_age > 0_False',\n",
        "'churn']]"
      ],
      "metadata": {
        "id": "RykewoT_yaaN"
      },
      "execution_count": null,
      "outputs": []
    },
    {
      "cell_type": "code",
      "source": [
        "data.shape"
      ],
      "metadata": {
        "colab": {
          "base_uri": "https://localhost:8080/"
        },
        "id": "xmQPYmNhDhAd",
        "outputId": "d2255841-977c-4f6b-fa07-6ed47472736a"
      },
      "execution_count": null,
      "outputs": [
        {
          "output_type": "execute_result",
          "data": {
            "text/plain": [
              "(90692, 56)"
            ]
          },
          "metadata": {},
          "execution_count": 5
        }
      ]
    },
    {
      "cell_type": "code",
      "source": [
        "data.head(3)"
      ],
      "metadata": {
        "colab": {
          "base_uri": "https://localhost:8080/",
          "height": 272
        },
        "id": "1sENKYwKEGKf",
        "outputId": "b0785716-3aec-4935-fa3e-3e1014d7a389"
      },
      "execution_count": null,
      "outputs": [
        {
          "output_type": "execute_result",
          "data": {
            "text/plain": [
              "   phones_used  handset_age  cred_score  cred_score + phones_used  \\\n",
              "0     0.071429     0.002194         0.0                  0.071429   \n",
              "1     0.178571     0.000000         0.0                  0.178571   \n",
              "2     0.107143     0.000000         0.0                  0.107143   \n",
              "\n",
              "   COSINE(handset_price)  COSINE(user_months)  CUM_MAX(handset_age)  \\\n",
              "0               0.834519             0.753932              0.002194   \n",
              "1              -0.113145            -0.911166              0.002194   \n",
              "2              -0.113145             0.646945              0.002194   \n",
              "\n",
              "   CUM_MEAN(cred_score)  CUM_MEAN(handset_price)  CUM_MEAN(phones_used)  ...  \\\n",
              "0                   0.0                 0.872352               0.500000  ...   \n",
              "1                   0.0                 0.726960               0.875000  ...   \n",
              "2                   0.0                 0.678496               0.833333  ...   \n",
              "\n",
              "   PRIZM_code_S  PRIZM_code_U  credit_card_False  \\\n",
              "0           1.0           0.0                1.0   \n",
              "1           0.0           0.0                1.0   \n",
              "2           0.0           1.0                0.0   \n",
              "\n",
              "   cred_score = manual_limit_False  cred_score = phones_used_False  \\\n",
              "0                              1.0                             1.0   \n",
              "1                              1.0                             1.0   \n",
              "2                              0.0                             1.0   \n",
              "\n",
              "   credit_card = phones_used_False  phones_used > cred_score_False  \\\n",
              "0                              1.0                             0.0   \n",
              "1                              1.0                             0.0   \n",
              "2                              1.0                             0.0   \n",
              "\n",
              "   user_months > phones_used_False  handset_age > 0_False  churn  \n",
              "0                              0.0                    0.0      0  \n",
              "1                              0.0                    1.0      0  \n",
              "2                              0.0                    1.0      1  \n",
              "\n",
              "[3 rows x 56 columns]"
            ],
            "text/html": [
              "\n",
              "  <div id=\"df-13f379d1-de3e-46b9-96e4-4ee88a3a4d1a\">\n",
              "    <div class=\"colab-df-container\">\n",
              "      <div>\n",
              "<style scoped>\n",
              "    .dataframe tbody tr th:only-of-type {\n",
              "        vertical-align: middle;\n",
              "    }\n",
              "\n",
              "    .dataframe tbody tr th {\n",
              "        vertical-align: top;\n",
              "    }\n",
              "\n",
              "    .dataframe thead th {\n",
              "        text-align: right;\n",
              "    }\n",
              "</style>\n",
              "<table border=\"1\" class=\"dataframe\">\n",
              "  <thead>\n",
              "    <tr style=\"text-align: right;\">\n",
              "      <th></th>\n",
              "      <th>phones_used</th>\n",
              "      <th>handset_age</th>\n",
              "      <th>cred_score</th>\n",
              "      <th>cred_score + phones_used</th>\n",
              "      <th>COSINE(handset_price)</th>\n",
              "      <th>COSINE(user_months)</th>\n",
              "      <th>CUM_MAX(handset_age)</th>\n",
              "      <th>CUM_MEAN(cred_score)</th>\n",
              "      <th>CUM_MEAN(handset_price)</th>\n",
              "      <th>CUM_MEAN(phones_used)</th>\n",
              "      <th>...</th>\n",
              "      <th>PRIZM_code_S</th>\n",
              "      <th>PRIZM_code_U</th>\n",
              "      <th>credit_card_False</th>\n",
              "      <th>cred_score = manual_limit_False</th>\n",
              "      <th>cred_score = phones_used_False</th>\n",
              "      <th>credit_card = phones_used_False</th>\n",
              "      <th>phones_used &gt; cred_score_False</th>\n",
              "      <th>user_months &gt; phones_used_False</th>\n",
              "      <th>handset_age &gt; 0_False</th>\n",
              "      <th>churn</th>\n",
              "    </tr>\n",
              "  </thead>\n",
              "  <tbody>\n",
              "    <tr>\n",
              "      <th>0</th>\n",
              "      <td>0.071429</td>\n",
              "      <td>0.002194</td>\n",
              "      <td>0.0</td>\n",
              "      <td>0.071429</td>\n",
              "      <td>0.834519</td>\n",
              "      <td>0.753932</td>\n",
              "      <td>0.002194</td>\n",
              "      <td>0.0</td>\n",
              "      <td>0.872352</td>\n",
              "      <td>0.500000</td>\n",
              "      <td>...</td>\n",
              "      <td>1.0</td>\n",
              "      <td>0.0</td>\n",
              "      <td>1.0</td>\n",
              "      <td>1.0</td>\n",
              "      <td>1.0</td>\n",
              "      <td>1.0</td>\n",
              "      <td>0.0</td>\n",
              "      <td>0.0</td>\n",
              "      <td>0.0</td>\n",
              "      <td>0</td>\n",
              "    </tr>\n",
              "    <tr>\n",
              "      <th>1</th>\n",
              "      <td>0.178571</td>\n",
              "      <td>0.000000</td>\n",
              "      <td>0.0</td>\n",
              "      <td>0.178571</td>\n",
              "      <td>-0.113145</td>\n",
              "      <td>-0.911166</td>\n",
              "      <td>0.002194</td>\n",
              "      <td>0.0</td>\n",
              "      <td>0.726960</td>\n",
              "      <td>0.875000</td>\n",
              "      <td>...</td>\n",
              "      <td>0.0</td>\n",
              "      <td>0.0</td>\n",
              "      <td>1.0</td>\n",
              "      <td>1.0</td>\n",
              "      <td>1.0</td>\n",
              "      <td>1.0</td>\n",
              "      <td>0.0</td>\n",
              "      <td>0.0</td>\n",
              "      <td>1.0</td>\n",
              "      <td>0</td>\n",
              "    </tr>\n",
              "    <tr>\n",
              "      <th>2</th>\n",
              "      <td>0.107143</td>\n",
              "      <td>0.000000</td>\n",
              "      <td>0.0</td>\n",
              "      <td>0.107143</td>\n",
              "      <td>-0.113145</td>\n",
              "      <td>0.646945</td>\n",
              "      <td>0.002194</td>\n",
              "      <td>0.0</td>\n",
              "      <td>0.678496</td>\n",
              "      <td>0.833333</td>\n",
              "      <td>...</td>\n",
              "      <td>0.0</td>\n",
              "      <td>1.0</td>\n",
              "      <td>0.0</td>\n",
              "      <td>0.0</td>\n",
              "      <td>1.0</td>\n",
              "      <td>1.0</td>\n",
              "      <td>0.0</td>\n",
              "      <td>0.0</td>\n",
              "      <td>1.0</td>\n",
              "      <td>1</td>\n",
              "    </tr>\n",
              "  </tbody>\n",
              "</table>\n",
              "<p>3 rows × 56 columns</p>\n",
              "</div>\n",
              "      <button class=\"colab-df-convert\" onclick=\"convertToInteractive('df-13f379d1-de3e-46b9-96e4-4ee88a3a4d1a')\"\n",
              "              title=\"Convert this dataframe to an interactive table.\"\n",
              "              style=\"display:none;\">\n",
              "        \n",
              "  <svg xmlns=\"http://www.w3.org/2000/svg\" height=\"24px\"viewBox=\"0 0 24 24\"\n",
              "       width=\"24px\">\n",
              "    <path d=\"M0 0h24v24H0V0z\" fill=\"none\"/>\n",
              "    <path d=\"M18.56 5.44l.94 2.06.94-2.06 2.06-.94-2.06-.94-.94-2.06-.94 2.06-2.06.94zm-11 1L8.5 8.5l.94-2.06 2.06-.94-2.06-.94L8.5 2.5l-.94 2.06-2.06.94zm10 10l.94 2.06.94-2.06 2.06-.94-2.06-.94-.94-2.06-.94 2.06-2.06.94z\"/><path d=\"M17.41 7.96l-1.37-1.37c-.4-.4-.92-.59-1.43-.59-.52 0-1.04.2-1.43.59L10.3 9.45l-7.72 7.72c-.78.78-.78 2.05 0 2.83L4 21.41c.39.39.9.59 1.41.59.51 0 1.02-.2 1.41-.59l7.78-7.78 2.81-2.81c.8-.78.8-2.07 0-2.86zM5.41 20L4 18.59l7.72-7.72 1.47 1.35L5.41 20z\"/>\n",
              "  </svg>\n",
              "      </button>\n",
              "      \n",
              "  <style>\n",
              "    .colab-df-container {\n",
              "      display:flex;\n",
              "      flex-wrap:wrap;\n",
              "      gap: 12px;\n",
              "    }\n",
              "\n",
              "    .colab-df-convert {\n",
              "      background-color: #E8F0FE;\n",
              "      border: none;\n",
              "      border-radius: 50%;\n",
              "      cursor: pointer;\n",
              "      display: none;\n",
              "      fill: #1967D2;\n",
              "      height: 32px;\n",
              "      padding: 0 0 0 0;\n",
              "      width: 32px;\n",
              "    }\n",
              "\n",
              "    .colab-df-convert:hover {\n",
              "      background-color: #E2EBFA;\n",
              "      box-shadow: 0px 1px 2px rgba(60, 64, 67, 0.3), 0px 1px 3px 1px rgba(60, 64, 67, 0.15);\n",
              "      fill: #174EA6;\n",
              "    }\n",
              "\n",
              "    [theme=dark] .colab-df-convert {\n",
              "      background-color: #3B4455;\n",
              "      fill: #D2E3FC;\n",
              "    }\n",
              "\n",
              "    [theme=dark] .colab-df-convert:hover {\n",
              "      background-color: #434B5C;\n",
              "      box-shadow: 0px 1px 3px 1px rgba(0, 0, 0, 0.15);\n",
              "      filter: drop-shadow(0px 1px 2px rgba(0, 0, 0, 0.3));\n",
              "      fill: #FFFFFF;\n",
              "    }\n",
              "  </style>\n",
              "\n",
              "      <script>\n",
              "        const buttonEl =\n",
              "          document.querySelector('#df-13f379d1-de3e-46b9-96e4-4ee88a3a4d1a button.colab-df-convert');\n",
              "        buttonEl.style.display =\n",
              "          google.colab.kernel.accessAllowed ? 'block' : 'none';\n",
              "\n",
              "        async function convertToInteractive(key) {\n",
              "          const element = document.querySelector('#df-13f379d1-de3e-46b9-96e4-4ee88a3a4d1a');\n",
              "          const dataTable =\n",
              "            await google.colab.kernel.invokeFunction('convertToInteractive',\n",
              "                                                     [key], {});\n",
              "          if (!dataTable) return;\n",
              "\n",
              "          const docLinkHtml = 'Like what you see? Visit the ' +\n",
              "            '<a target=\"_blank\" href=https://colab.research.google.com/notebooks/data_table.ipynb>data table notebook</a>'\n",
              "            + ' to learn more about interactive tables.';\n",
              "          element.innerHTML = '';\n",
              "          dataTable['output_type'] = 'display_data';\n",
              "          await google.colab.output.renderOutput(dataTable, element);\n",
              "          const docLink = document.createElement('div');\n",
              "          docLink.innerHTML = docLinkHtml;\n",
              "          element.appendChild(docLink);\n",
              "        }\n",
              "      </script>\n",
              "    </div>\n",
              "  </div>\n",
              "  "
            ]
          },
          "metadata": {},
          "execution_count": 6
        }
      ]
    },
    {
      "cell_type": "code",
      "source": [
        "data[data.columns[data.isnull().any()]].isnull().sum() * 100 / data.shape[0]"
      ],
      "metadata": {
        "colab": {
          "base_uri": "https://localhost:8080/"
        },
        "id": "mWSlzp86hFvV",
        "outputId": "846322da-27ed-40e9-fe0c-89ab198e47fc"
      },
      "execution_count": null,
      "outputs": [
        {
          "output_type": "execute_result",
          "data": {
            "text/plain": [
              "Series([], dtype: float64)"
            ]
          },
          "metadata": {},
          "execution_count": 7
        }
      ]
    },
    {
      "cell_type": "code",
      "source": [
        "# sample for parameter search\n",
        "sample = data.sample(frac =.1)\n",
        "sample.shape"
      ],
      "metadata": {
        "colab": {
          "base_uri": "https://localhost:8080/"
        },
        "id": "3zqj8BvE7zwn",
        "outputId": "1501c929-21a0-413a-9311-e2df4d252552"
      },
      "execution_count": null,
      "outputs": [
        {
          "output_type": "execute_result",
          "data": {
            "text/plain": [
              "(9069, 56)"
            ]
          },
          "metadata": {},
          "execution_count": 8
        }
      ]
    },
    {
      "cell_type": "code",
      "source": [
        "sample['churn'].value_counts()"
      ],
      "metadata": {
        "colab": {
          "base_uri": "https://localhost:8080/"
        },
        "id": "5Hgay-zGhtq5",
        "outputId": "7ea567ee-1dc3-4864-8524-ea05b68db010"
      },
      "execution_count": null,
      "outputs": [
        {
          "output_type": "execute_result",
          "data": {
            "text/plain": [
              "0    4626\n",
              "1    4443\n",
              "Name: churn, dtype: int64"
            ]
          },
          "metadata": {},
          "execution_count": 9
        }
      ]
    },
    {
      "cell_type": "code",
      "source": [
        "# (sample) Data split\n",
        "X_train, X_test, y_train, y_test = train_test_split(\n",
        "    sample.drop(labels=['churn'], axis=1),\n",
        "    sample['churn'],\n",
        "    test_size=0.1,\n",
        "    random_state=123)\n",
        "\n",
        "X_train.shape, X_test.shape, y_train.shape, y_test.shape"
      ],
      "metadata": {
        "colab": {
          "base_uri": "https://localhost:8080/"
        },
        "id": "J4nys__sEkLX",
        "outputId": "362ffa52-9cfd-459e-8127-94a3c478447c"
      },
      "execution_count": null,
      "outputs": [
        {
          "output_type": "execute_result",
          "data": {
            "text/plain": [
              "((8162, 55), (907, 55), (8162,), (907,))"
            ]
          },
          "metadata": {},
          "execution_count": 10
        }
      ]
    },
    {
      "cell_type": "code",
      "source": [
        "# parameter tuning\n",
        "# n_estimators = [10, 100, 1000, 2000] \n",
        "# 1000> 1, 10, 100, 1500, 1000 > 500\n",
        "# best: \n",
        "n_estimators = [1000]\n",
        "\n",
        "# learning_rate = []\n",
        "# 0.1 > 0.01, 0.001; 0.1 > 0.5\n",
        "# best:\n",
        "learning_rate=[0.1]\n",
        "\n",
        "\n",
        "param_grid = dict(n_estimators=n_estimators, \n",
        "                  learning_rate=learning_rate)"
      ],
      "metadata": {
        "id": "b-7NgBVhjujI"
      },
      "execution_count": null,
      "outputs": []
    },
    {
      "cell_type": "code",
      "source": [
        "ada = AdaBoostClassifier(random_state=654)\n",
        "\n",
        "grid = GridSearchCV(estimator=ada, \n",
        "                    param_grid=param_grid,\n",
        "                    cv=3,\n",
        "                    verbose=2,\n",
        "                    n_jobs=-1)\n",
        "\n",
        "grid_result = grid.fit(X_train, y_train)"
      ],
      "metadata": {
        "colab": {
          "base_uri": "https://localhost:8080/"
        },
        "id": "1xTnd3cDkBlx",
        "outputId": "2850a6c8-78d3-403b-e565-ce32452c8340"
      },
      "execution_count": null,
      "outputs": [
        {
          "output_type": "stream",
          "name": "stdout",
          "text": [
            "Fitting 3 folds for each of 1 candidates, totalling 3 fits\n"
          ]
        }
      ]
    },
    {
      "cell_type": "code",
      "source": [
        "grid_result.best_estimator_"
      ],
      "metadata": {
        "colab": {
          "base_uri": "https://localhost:8080/"
        },
        "id": "0JdQWUkkkNso",
        "outputId": "df6e15c7-f846-4cdd-c952-fa3e7074b08a"
      },
      "execution_count": null,
      "outputs": [
        {
          "output_type": "execute_result",
          "data": {
            "text/plain": [
              "AdaBoostClassifier(learning_rate=0.1, n_estimators=1000, random_state=42)"
            ]
          },
          "metadata": {},
          "execution_count": 13
        }
      ]
    },
    {
      "cell_type": "code",
      "source": [
        "grid_result.best_params_"
      ],
      "metadata": {
        "colab": {
          "base_uri": "https://localhost:8080/"
        },
        "id": "tONGD2MgkWwQ",
        "outputId": "e213eac2-fd56-4041-e9f2-0072399ff6a3"
      },
      "execution_count": null,
      "outputs": [
        {
          "output_type": "execute_result",
          "data": {
            "text/plain": [
              "{'learning_rate': 0.1, 'n_estimators': 1000}"
            ]
          },
          "metadata": {},
          "execution_count": 14
        }
      ]
    },
    {
      "cell_type": "code",
      "source": [
        "grid_result.best_score_"
      ],
      "metadata": {
        "colab": {
          "base_uri": "https://localhost:8080/"
        },
        "id": "8ODiUwH2kX6o",
        "outputId": "a7a6efa2-c8af-45a9-9e67-97924d75854f"
      },
      "execution_count": null,
      "outputs": [
        {
          "output_type": "execute_result",
          "data": {
            "text/plain": [
              "0.586008018606193"
            ]
          },
          "metadata": {},
          "execution_count": 15
        }
      ]
    },
    {
      "cell_type": "code",
      "source": [
        "# summarize results\n",
        "print(\"Best: %f using %s\" % (grid_result.best_score_, grid_result.best_params_))\n",
        "means = grid_result.cv_results_['mean_test_score']\n",
        "stds = grid_result.cv_results_['std_test_score']\n",
        "params = grid_result.cv_results_['params']\n",
        "for mean, stdev, param in zip(means, stds, params):\n",
        "    print(\"%f (%f) with: %r\" % (mean, stdev, param))"
      ],
      "metadata": {
        "colab": {
          "base_uri": "https://localhost:8080/"
        },
        "id": "vb8xutDckiHp",
        "outputId": "3fb8385b-d534-4abb-f0f9-91759d2b7769"
      },
      "execution_count": null,
      "outputs": [
        {
          "output_type": "stream",
          "name": "stdout",
          "text": [
            "Best: 0.586008 using {'learning_rate': 0.1, 'n_estimators': 1000}\n",
            "0.586008 (0.006555) with: {'learning_rate': 0.1, 'n_estimators': 1000}\n"
          ]
        }
      ]
    },
    {
      "cell_type": "code",
      "source": [
        "# prediction on total data\n",
        "# (sample) Data split\n",
        "X_train, X_test, y_train, y_test = train_test_split(\n",
        "    data.drop(labels=['churn'], axis=1),\n",
        "    data['churn'],\n",
        "    test_size=0.1,\n",
        "    random_state=123)\n",
        "\n",
        "X_train.shape, X_test.shape, y_train.shape, y_test.shape"
      ],
      "metadata": {
        "colab": {
          "base_uri": "https://localhost:8080/"
        },
        "id": "Bs1Nx9Jn-Mje",
        "outputId": "ae8367c7-1ee1-4b04-afcf-5c1cbff5acb1"
      },
      "execution_count": null,
      "outputs": [
        {
          "output_type": "execute_result",
          "data": {
            "text/plain": [
              "((81622, 55), (9070, 55), (81622,), (9070,))"
            ]
          },
          "metadata": {},
          "execution_count": 17
        }
      ]
    },
    {
      "cell_type": "code",
      "source": [
        "# Make predictions\n",
        "ada = grid_result.best_estimator_"
      ],
      "metadata": {
        "id": "wotYxilN64gk"
      },
      "execution_count": null,
      "outputs": []
    },
    {
      "cell_type": "markdown",
      "source": [
        "CV"
      ],
      "metadata": {
        "id": "kVom43QNu62m"
      }
    },
    {
      "cell_type": "code",
      "source": [
        "# cross validation\n",
        "X_cv = data.drop(labels=['churn'], axis=1)\n",
        "y_cv = data['churn']\n",
        "\n",
        "X_cv.shape, y_cv.shape"
      ],
      "metadata": {
        "id": "SyRena_v7Jfb",
        "colab": {
          "base_uri": "https://localhost:8080/"
        },
        "outputId": "2c51e310-7f0c-4071-927b-9680069b2a80"
      },
      "execution_count": null,
      "outputs": [
        {
          "output_type": "execute_result",
          "data": {
            "text/plain": [
              "((90692, 55), (90692,))"
            ]
          },
          "metadata": {},
          "execution_count": 19
        }
      ]
    },
    {
      "cell_type": "code",
      "source": [
        "scores = cross_val_score(ada, X_cv, y_cv, cv=10)\n",
        "print(scores)\n",
        "print(scores.mean())"
      ],
      "metadata": {
        "colab": {
          "base_uri": "https://localhost:8080/"
        },
        "id": "pRak23gau5DA",
        "outputId": "6d09df27-7d8a-47dd-dd15-98486df71417"
      },
      "execution_count": null,
      "outputs": [
        {
          "output_type": "stream",
          "name": "stdout",
          "text": [
            "[0.50385888 0.50518192 0.41834822 0.26574043 0.35042452 0.22163414\n",
            " 0.06847502 0.23596868 0.38030654 0.49531371]\n",
            "0.3445252062984472\n"
          ]
        }
      ]
    },
    {
      "cell_type": "markdown",
      "source": [
        "Prediction"
      ],
      "metadata": {
        "id": "eIhZ9Ylsu73M"
      }
    },
    {
      "cell_type": "code",
      "source": [
        "# prediction\n",
        "y_pred_test = ada.predict(X_test)"
      ],
      "metadata": {
        "id": "5tdX1-wX7M2p"
      },
      "execution_count": null,
      "outputs": []
    },
    {
      "cell_type": "code",
      "source": [
        "accuracy_score(y_test, y_pred_test) # acc score"
      ],
      "metadata": {
        "colab": {
          "base_uri": "https://localhost:8080/"
        },
        "id": "eOE7XRxO_ou9",
        "outputId": "bb185b03-b46a-472c-c99c-09ce3a045cf4"
      },
      "execution_count": null,
      "outputs": [
        {
          "output_type": "execute_result",
          "data": {
            "text/plain": [
              "0.5939360529217199"
            ]
          },
          "metadata": {},
          "execution_count": 23
        }
      ]
    },
    {
      "cell_type": "code",
      "source": [
        "# confusion matrix\n",
        "confusion_matrix(y_test,y_pred_test)"
      ],
      "metadata": {
        "colab": {
          "base_uri": "https://localhost:8080/"
        },
        "id": "2nEkeucE8JJ0",
        "outputId": "580c6450-6be2-4068-d575-4e3bd6b5af9e"
      },
      "execution_count": null,
      "outputs": [
        {
          "output_type": "execute_result",
          "data": {
            "text/plain": [
              "array([[2579, 1989],\n",
              "       [1694, 2808]])"
            ]
          },
          "metadata": {},
          "execution_count": 24
        }
      ]
    },
    {
      "cell_type": "code",
      "source": [
        "# confusion matrix\n",
        "print(classification_report(y_test, y_pred_test))"
      ],
      "metadata": {
        "colab": {
          "base_uri": "https://localhost:8080/"
        },
        "id": "3ym3k9ZPA1Lw",
        "outputId": "1710b4f5-ba46-4945-86d0-61dd4812a8c5"
      },
      "execution_count": null,
      "outputs": [
        {
          "output_type": "stream",
          "name": "stdout",
          "text": [
            "              precision    recall  f1-score   support\n",
            "\n",
            "           0       0.60      0.56      0.58      4568\n",
            "           1       0.59      0.62      0.60      4502\n",
            "\n",
            "    accuracy                           0.59      9070\n",
            "   macro avg       0.59      0.59      0.59      9070\n",
            "weighted avg       0.59      0.59      0.59      9070\n",
            "\n"
          ]
        }
      ]
    },
    {
      "cell_type": "code",
      "source": [
        "# ROC AUC\n",
        "rf_probs = ada.predict_proba(X_test)[:, 1]\n",
        "roc_value = roc_auc_score(y_test, rf_probs)\n",
        "roc_value"
      ],
      "metadata": {
        "colab": {
          "base_uri": "https://localhost:8080/"
        },
        "id": "hSxDDScN87f_",
        "outputId": "f3ca074c-8d42-45ad-8260-508a91db95c4"
      },
      "execution_count": null,
      "outputs": [
        {
          "output_type": "execute_result",
          "data": {
            "text/plain": [
              "0.6325080952540261"
            ]
          },
          "metadata": {},
          "execution_count": 26
        }
      ]
    },
    {
      "cell_type": "code",
      "source": [
        "import scikitplot as skplt\n",
        "probs = ada.predict_proba(X_test)\n",
        "skplt.metrics.plot_roc(y_test, probs)\n",
        "plt.show()"
      ],
      "metadata": {
        "colab": {
          "base_uri": "https://localhost:8080/",
          "height": 295
        },
        "id": "Bjdgjjjd-1BC",
        "outputId": "37957e12-302c-4820-d409-29205760fb27"
      },
      "execution_count": null,
      "outputs": [
        {
          "output_type": "display_data",
          "data": {
            "text/plain": [
              "<Figure size 432x288 with 1 Axes>"
            ],
            "image/png": "[encoded data removed]"
          },
          "metadata": {
            "needs_background": "light"
          }
        }
      ]
    },
    {
      "cell_type": "code",
      "source": [
        "skplt.metrics.plot_precision_recall_curve(y_test, probs)\n",
        "plt.show()"
      ],
      "metadata": {
        "colab": {
          "base_uri": "https://localhost:8080/",
          "height": 350
        },
        "id": "ReR5pMkT-070",
        "outputId": "ba11f3a7-b2d7-4c90-8a82-a72da16741d6"
      },
      "execution_count": null,
      "outputs": [
        {
          "output_type": "stream",
          "name": "stderr",
          "text": [
            "/usr/local/lib/python3.7/dist-packages/sklearn/utils/deprecation.py:87: FutureWarning: Function plot_precision_recall_curve is deprecated; This will be removed in v0.5.0. Please use scikitplot.metrics.plot_precision_recall instead.\n",
            "  warnings.warn(msg, category=FutureWarning)\n"
          ]
        },
        {
          "output_type": "display_data",
          "data": {
            "text/plain": [
              "<Figure size 432x288 with 1 Axes>"
            ],
            "image/png": "[encoded data removed]"
          },
          "metadata": {
            "needs_background": "light"
          }
        }
      ]
    },
    {
      "cell_type": "code",
      "source": [
        "plt.figure()\n",
        "plot_roc_curve(ada,X_test,y_test,\n",
        "               color=\"darkorange\",\n",
        "               lw=2)\n",
        "plt.plot([0, 1], [0, 1], color=\"navy\", lw=2, linestyle=\"--\")\n",
        "plt.show()"
      ],
      "metadata": {
        "colab": {
          "base_uri": "https://localhost:8080/",
          "height": 351
        },
        "id": "PjjdiOoY9i11",
        "outputId": "d674eb44-3679-47a3-ab54-9f0ea0157712"
      },
      "execution_count": null,
      "outputs": [
        {
          "output_type": "stream",
          "name": "stderr",
          "text": [
            "/usr/local/lib/python3.7/dist-packages/sklearn/utils/deprecation.py:87: FutureWarning: Function plot_roc_curve is deprecated; Function :func:`plot_roc_curve` is deprecated in 1.0 and will be removed in 1.2. Use one of the class methods: :meth:`sklearn.metric.RocCurveDisplay.from_predictions` or :meth:`sklearn.metric.RocCurveDisplay.from_estimator`.\n",
            "  warnings.warn(msg, category=FutureWarning)\n"
          ]
        },
        {
          "output_type": "display_data",
          "data": {
            "text/plain": [
              "<Figure size 432x288 with 0 Axes>"
            ]
          },
          "metadata": {}
        },
        {
          "output_type": "display_data",
          "data": {
            "text/plain": [
              "<Figure size 432x288 with 1 Axes>"
            ],
            "image/png": "[encoded data removed]"
          },
          "metadata": {
            "needs_background": "light"
          }
        }
      ]
    },
    {
      "cell_type": "code",
      "source": [
        "# feature importance\n",
        "# Extract feature importances\n",
        "fi = pd.DataFrame({'feature': list(X_train.columns),\n",
        "                   'importance': ada.feature_importances_}).\\\n",
        "                    sort_values('importance', ascending = False)\n",
        "\n",
        "# Display\n",
        "fi.head(20)"
      ],
      "metadata": {
        "colab": {
          "base_uri": "https://localhost:8080/",
          "height": 677
        },
        "id": "PJJSn1UG_E_R",
        "outputId": "01dffd20-9c2f-47c9-eff5-bd0f54d945a4"
      },
      "execution_count": null,
      "outputs": [
        {
          "output_type": "execute_result",
          "data": {
            "text/plain": [
              "                            feature  importance\n",
              "10              CUM_SUM(cred_score)       0.119\n",
              "16        phones_used / user_months       0.095\n",
              "24      handset_price * user_months       0.080\n",
              "9             CUM_MEAN(phones_used)       0.070\n",
              "22      handset_age * handset_price       0.069\n",
              "7              CUM_MEAN(cred_score)       0.060\n",
              "14      handset_age / handset_price       0.056\n",
              "1                       handset_age       0.040\n",
              "23      handset_price * phones_used       0.036\n",
              "11                  1 / user_months       0.034\n",
              "13         cred_score / user_months       0.034\n",
              "5               COSINE(user_months)       0.033\n",
              "17      user_months / handset_price       0.024\n",
              "43               manual_limit_False       0.022\n",
              "19      user_months % handset_price       0.021\n",
              "8           CUM_MEAN(handset_price)       0.019\n",
              "51  credit_card = phones_used_False       0.018\n",
              "15      handset_price / user_months       0.015\n",
              "20       cred_score * handset_price       0.015\n",
              "21         cred_score * user_months       0.014"
            ],
            "text/html": [
              "\n",
              "  <div id=\"df-0d47f262-a1b7-4eaf-8bd2-a6ce7a64a6f2\">\n",
              "    <div class=\"colab-df-container\">\n",
              "      <div>\n",
              "<style scoped>\n",
              "    .dataframe tbody tr th:only-of-type {\n",
              "        vertical-align: middle;\n",
              "    }\n",
              "\n",
              "    .dataframe tbody tr th {\n",
              "        vertical-align: top;\n",
              "    }\n",
              "\n",
              "    .dataframe thead th {\n",
              "        text-align: right;\n",
              "    }\n",
              "</style>\n",
              "<table border=\"1\" class=\"dataframe\">\n",
              "  <thead>\n",
              "    <tr style=\"text-align: right;\">\n",
              "      <th></th>\n",
              "      <th>feature</th>\n",
              "      <th>importance</th>\n",
              "    </tr>\n",
              "  </thead>\n",
              "  <tbody>\n",
              "    <tr>\n",
              "      <th>10</th>\n",
              "      <td>CUM_SUM(cred_score)</td>\n",
              "      <td>0.119</td>\n",
              "    </tr>\n",
              "    <tr>\n",
              "      <th>16</th>\n",
              "      <td>phones_used / user_months</td>\n",
              "      <td>0.095</td>\n",
              "    </tr>\n",
              "    <tr>\n",
              "      <th>24</th>\n",
              "      <td>handset_price * user_months</td>\n",
              "      <td>0.080</td>\n",
              "    </tr>\n",
              "    <tr>\n",
              "      <th>9</th>\n",
              "      <td>CUM_MEAN(phones_used)</td>\n",
              "      <td>0.070</td>\n",
              "    </tr>\n",
              "    <tr>\n",
              "      <th>22</th>\n",
              "      <td>handset_age * handset_price</td>\n",
              "      <td>0.069</td>\n",
              "    </tr>\n",
              "    <tr>\n",
              "      <th>7</th>\n",
              "      <td>CUM_MEAN(cred_score)</td>\n",
              "      <td>0.060</td>\n",
              "    </tr>\n",
              "    <tr>\n",
              "      <th>14</th>\n",
              "      <td>handset_age / handset_price</td>\n",
              "      <td>0.056</td>\n",
              "    </tr>\n",
              "    <tr>\n",
              "      <th>1</th>\n",
              "      <td>handset_age</td>\n",
              "      <td>0.040</td>\n",
              "    </tr>\n",
              "    <tr>\n",
              "      <th>23</th>\n",
              "      <td>handset_price * phones_used</td>\n",
              "      <td>0.036</td>\n",
              "    </tr>\n",
              "    <tr>\n",
              "      <th>11</th>\n",
              "      <td>1 / user_months</td>\n",
              "      <td>0.034</td>\n",
              "    </tr>\n",
              "    <tr>\n",
              "      <th>13</th>\n",
              "      <td>cred_score / user_months</td>\n",
              "      <td>0.034</td>\n",
              "    </tr>\n",
              "    <tr>\n",
              "      <th>5</th>\n",
              "      <td>COSINE(user_months)</td>\n",
              "      <td>0.033</td>\n",
              "    </tr>\n",
              "    <tr>\n",
              "      <th>17</th>\n",
              "      <td>user_months / handset_price</td>\n",
              "      <td>0.024</td>\n",
              "    </tr>\n",
              "    <tr>\n",
              "      <th>43</th>\n",
              "      <td>manual_limit_False</td>\n",
              "      <td>0.022</td>\n",
              "    </tr>\n",
              "    <tr>\n",
              "      <th>19</th>\n",
              "      <td>user_months % handset_price</td>\n",
              "      <td>0.021</td>\n",
              "    </tr>\n",
              "    <tr>\n",
              "      <th>8</th>\n",
              "      <td>CUM_MEAN(handset_price)</td>\n",
              "      <td>0.019</td>\n",
              "    </tr>\n",
              "    <tr>\n",
              "      <th>51</th>\n",
              "      <td>credit_card = phones_used_False</td>\n",
              "      <td>0.018</td>\n",
              "    </tr>\n",
              "    <tr>\n",
              "      <th>15</th>\n",
              "      <td>handset_price / user_months</td>\n",
              "      <td>0.015</td>\n",
              "    </tr>\n",
              "    <tr>\n",
              "      <th>20</th>\n",
              "      <td>cred_score * handset_price</td>\n",
              "      <td>0.015</td>\n",
              "    </tr>\n",
              "    <tr>\n",
              "      <th>21</th>\n",
              "      <td>cred_score * user_months</td>\n",
              "      <td>0.014</td>\n",
              "    </tr>\n",
              "  </tbody>\n",
              "</table>\n",
              "</div>\n",
              "      <button class=\"colab-df-convert\" onclick=\"convertToInteractive('df-0d47f262-a1b7-4eaf-8bd2-a6ce7a64a6f2')\"\n",
              "              title=\"Convert this dataframe to an interactive table.\"\n",
              "              style=\"display:none;\">\n",
              "        \n",
              "  <svg xmlns=\"http://www.w3.org/2000/svg\" height=\"24px\"viewBox=\"0 0 24 24\"\n",
              "       width=\"24px\">\n",
              "    <path d=\"M0 0h24v24H0V0z\" fill=\"none\"/>\n",
              "    <path d=\"M18.56 5.44l.94 2.06.94-2.06 2.06-.94-2.06-.94-.94-2.06-.94 2.06-2.06.94zm-11 1L8.5 8.5l.94-2.06 2.06-.94-2.06-.94L8.5 2.5l-.94 2.06-2.06.94zm10 10l.94 2.06.94-2.06 2.06-.94-2.06-.94-.94-2.06-.94 2.06-2.06.94z\"/><path d=\"M17.41 7.96l-1.37-1.37c-.4-.4-.92-.59-1.43-.59-.52 0-1.04.2-1.43.59L10.3 9.45l-7.72 7.72c-.78.78-.78 2.05 0 2.83L4 21.41c.39.39.9.59 1.41.59.51 0 1.02-.2 1.41-.59l7.78-7.78 2.81-2.81c.8-.78.8-2.07 0-2.86zM5.41 20L4 18.59l7.72-7.72 1.47 1.35L5.41 20z\"/>\n",
              "  </svg>\n",
              "      </button>\n",
              "      \n",
              "  <style>\n",
              "    .colab-df-container {\n",
              "      display:flex;\n",
              "      flex-wrap:wrap;\n",
              "      gap: 12px;\n",
              "    }\n",
              "\n",
              "    .colab-df-convert {\n",
              "      background-color: #E8F0FE;\n",
              "      border: none;\n",
              "      border-radius: 50%;\n",
              "      cursor: pointer;\n",
              "      display: none;\n",
              "      fill: #1967D2;\n",
              "      height: 32px;\n",
              "      padding: 0 0 0 0;\n",
              "      width: 32px;\n",
              "    }\n",
              "\n",
              "    .colab-df-convert:hover {\n",
              "      background-color: #E2EBFA;\n",
              "      box-shadow: 0px 1px 2px rgba(60, 64, 67, 0.3), 0px 1px 3px 1px rgba(60, 64, 67, 0.15);\n",
              "      fill: #174EA6;\n",
              "    }\n",
              "\n",
              "    [theme=dark] .colab-df-convert {\n",
              "      background-color: #3B4455;\n",
              "      fill: #D2E3FC;\n",
              "    }\n",
              "\n",
              "    [theme=dark] .colab-df-convert:hover {\n",
              "      background-color: #434B5C;\n",
              "      box-shadow: 0px 1px 3px 1px rgba(0, 0, 0, 0.15);\n",
              "      filter: drop-shadow(0px 1px 2px rgba(0, 0, 0, 0.3));\n",
              "      fill: #FFFFFF;\n",
              "    }\n",
              "  </style>\n",
              "\n",
              "      <script>\n",
              "        const buttonEl =\n",
              "          document.querySelector('#df-0d47f262-a1b7-4eaf-8bd2-a6ce7a64a6f2 button.colab-df-convert');\n",
              "        buttonEl.style.display =\n",
              "          google.colab.kernel.accessAllowed ? 'block' : 'none';\n",
              "\n",
              "        async function convertToInteractive(key) {\n",
              "          const element = document.querySelector('#df-0d47f262-a1b7-4eaf-8bd2-a6ce7a64a6f2');\n",
              "          const dataTable =\n",
              "            await google.colab.kernel.invokeFunction('convertToInteractive',\n",
              "                                                     [key], {});\n",
              "          if (!dataTable) return;\n",
              "\n",
              "          const docLinkHtml = 'Like what you see? Visit the ' +\n",
              "            '<a target=\"_blank\" href=https://colab.research.google.com/notebooks/data_table.ipynb>data table notebook</a>'\n",
              "            + ' to learn more about interactive tables.';\n",
              "          element.innerHTML = '';\n",
              "          dataTable['output_type'] = 'display_data';\n",
              "          await google.colab.output.renderOutput(dataTable, element);\n",
              "          const docLink = document.createElement('div');\n",
              "          docLink.innerHTML = docLinkHtml;\n",
              "          element.appendChild(docLink);\n",
              "        }\n",
              "      </script>\n",
              "    </div>\n",
              "  </div>\n",
              "  "
            ]
          },
          "metadata": {},
          "execution_count": 28
        }
      ]
    },
    {
      "cell_type": "code",
      "source": [
        "# SHAPELY model explainer\n",
        "#!pip install shap\n",
        "#import shap "
      ],
      "metadata": {
        "id": "MzoGtFugAeml"
      },
      "execution_count": null,
      "outputs": []
    },
    {
      "cell_type": "code",
      "source": [
        "# Create Tree Explainer object that can calculate shap values\n",
        "#explainer = shap.TreeExplainer(ada)"
      ],
      "metadata": {
        "id": "CcvLzFl2Bq0l"
      },
      "execution_count": null,
      "outputs": []
    },
    {
      "cell_type": "code",
      "source": [
        "# sample\n",
        "#X_test.loc[[62173]]"
      ],
      "metadata": {
        "id": "4PYrhzBHBtfF"
      },
      "execution_count": null,
      "outputs": []
    },
    {
      "cell_type": "code",
      "source": [
        "# sample\n",
        "#choosen_instance = X_test.loc[[62173]]\n",
        "#shap_values = explainer.shap_values(choosen_instance)\n",
        "#shap.initjs()\n",
        "#shap.force_plot(explainer.expected_value[1], shap_values[1], choosen_instance)"
      ],
      "metadata": {
        "id": "wKD4DlPNCDQU"
      },
      "execution_count": null,
      "outputs": []
    },
    {
      "cell_type": "code",
      "source": [
        "# sample\n",
        "#shap.summary_plot(shap_values, X_train)"
      ],
      "metadata": {
        "id": "DkTOpgH-DHvM"
      },
      "execution_count": null,
      "outputs": []
    },
    {
      "cell_type": "code",
      "source": [
        "# shap feature importance\n",
        "#shap_values = shap.TreeExplainer(ada).shap_values(X_train)\n",
        "#shap.summary_plot(shap_values, X_train, plot_type=\"bar\")"
      ],
      "metadata": {
        "id": "PaXgHHIkFPJ8"
      },
      "execution_count": null,
      "outputs": []
    }
  ]
}